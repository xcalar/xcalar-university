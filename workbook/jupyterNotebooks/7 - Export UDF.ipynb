{
 "cells": [
  {
   "cell_type": "markdown",
   "metadata": {},
   "source": [
    "# Excel Export UDF\n",
    "\n",
    "Xcalar allows your data to be exported to a variety of external target types ranging from files on your local system to databases, Kafka, Hadoop and REST APIs. By default, Xcalar will export a table to the Default <b>Export Target</b> which is in the shared file system that is mounted on all Xcalar cluster nodes. In this tutorial we will look into creating custom export targets leveraging UDFs.\n",
    "\n",
    "Note: To integrate an Export UDF you will need to create an Export Target which requires an admin account privilege.\n",
    "\n",
    "<HTML>\n",
    "<br>\n",
    "<div style=\"background-color : blue; color : white\n",
    "    width: 284px;\n",
    "    padding: 20px 20px 20px 100px;\n",
    "    border: 1px solid #BFBFBF;\n",
    "    background-color: white;box-shadow: 0px 0px 0px 0px #aaaaaa; position: relative;\"><font style=\"font-size:20px\">\n",
    "More Information on Exporting</font>\n",
    "    <br>For information on exporting a table in Xcalar refer to [Exporting a table](https://www.xcalar.com/documentation/help/XD/1.3.1/Content/C_AdvancedTasks/G_ExportTable.htm).\n",
    "    <br>\n",
    "    For more information on writing an export UDF and creating an Export Target see [Example of using a UDF when exporting](https://www.xcalar.com/documentation/help/XD/1.3.1/Content/D_Reference/H1_UdfExamples.htm#Example).\n",
    "    <br>This video tutorial [How-to Series (UDFs) - Exporting to Kafka](https://www.youtube.com/watch?v=c7FKfsct8PU) on the Xcalar YouTube channel might also be useful.\n",
    "    <img src=\"xi-questionmark_yellow.png\" \n",
    "         style=\"position: absolute;top: 20px;left: 30px;width:40px ;height:40px\" />\n",
    "</div>\n",
    "</HTML>\n"
   ]
  },
  {
   "cell_type": "markdown",
   "metadata": {},
   "source": [
    "### Export UDFs\n",
    "By default, tables are exported in CSV format, however, you can export in any format and to any target using Export UDFs. Before implementing our example UDF lets cover some basics of export UDFs."
   ]
  },
  {
   "cell_type": "markdown",
   "metadata": {},
   "source": [
    "An Export UDF is required to have a function named ‘main’ that takes one argument, in our example we call it ‘inStruct’. The ‘inStruct’ argument is a json string that has two attributes, ‘filePath’  and ‘fileContent’. ‘filePath’ contains the path to the target location and ‘fileContent’ is the data being exported. More specifically:\n",
    "\n",
    "* <i>inStruct[“filePath”]</i> contains the export file system path consisting of the path specified in the the export target (see **Creating the export target** section [here](https://www.xcalar.com/documentation/help/XD/1.3.1/Content/D_Reference/H1_UdfExamples.htm?Highlight=%22export%20target%22#Example\")) and the filename as specified during the export operation.\n",
    "* <i>inStruct[“fileContent”]</i> contains the exported content in CSV format. \n",
    "\n",
    "The code below will implement a Export UDF that converts and saves your Xcalar table in Excel format."
   ]
  },
  {
   "cell_type": "code",
   "execution_count": 1,
   "metadata": {},
   "outputs": [],
   "source": [
    "import openpyxl\n",
    "import json\n",
    "import os\n",
    "\n",
    "def main(inStruct):\n",
    "    # Get the fileName and fileContents from the argument\n",
    "    s = json.loads(inStruct)\n",
    "    fileName = s[\"filePath\"]\n",
    "    fileContents = s[\"fileContents\"]\n",
    "\n",
    "    # Create excel workbook\n",
    "    wb = openpyxl.Workbook()\n",
    "    # File name removes the .csv and replaces it with .xlsx\n",
    "    folderName = fileName[:fileName.rfind(\"/\")];\n",
    "\n",
    "    # Create the folder if it doesn't already exist\n",
    "    if not os.path.exists(folderName):\n",
    "        os.makedirs(folderName)\n",
    "\n",
    "    fileName = fileName.replace(\".csv\", \".xlsx\")\n",
    "\n",
    "    ws = wb.active\n",
    "\n",
    "    fieldDelim = \"\\t\" # Change this to match the delimiter that you chose in\n",
    "                      # the export panel\n",
    "    rowNum = 0\n",
    "    for row in fileContents.split(\"\\n\"):\n",
    "        rowNum += 1\n",
    "        colNum = 0\n",
    "        for col in row.split(fieldDelim):\n",
    "            colNum += 1\n",
    "            ws.cell(column=colNum, row=rowNum, value=str(col))\n",
    "\n",
    "    wb.save(filename=fileName)"
   ]
  },
  {
   "cell_type": "markdown",
   "metadata": {},
   "source": [
    "### Setting your UDF as an Export Target\n",
    "\n",
    "To deploy this UDF you will need to specify a new Export Target as described in the **Creating an export target** section [here](https://www.xcalar.com/documentation/help/XD/1.3.1/Content/C_AdvancedTasks/G_ExportTable.htm?Highlight=\"export%20target\"). Remember that this task requires admin privileges.\n"
   ]
  },
  {
   "cell_type": "markdown",
   "metadata": {},
   "source": [
    "<html>\n",
    " Back to <a href=\"./0%20-%20Introduction.ipynb\" target=\"_self\">Introduction</a><br>\n",
    "</html>"
   ]
  }
 ],
 "metadata": {
  "kernelspec": {
   "display_name": "Python 3",
   "language": "python",
   "name": "python3"
  },
  "language_info": {
   "codemirror_mode": {
    "name": "ipython",
    "version": 3
   },
   "file_extension": ".py",
   "mimetype": "text/x-python",
   "name": "python",
   "nbconvert_exporter": "python",
   "pygments_lexer": "ipython3",
   "version": "3.6.4"
  }
 },
 "nbformat": 4,
 "nbformat_minor": 2
}
