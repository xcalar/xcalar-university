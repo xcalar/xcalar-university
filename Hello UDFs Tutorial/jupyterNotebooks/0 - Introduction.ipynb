{
 "cells": [
  {
   "cell_type": "markdown",
   "metadata": {},
   "source": [
    "# Workbooks & Notebooks\n",
    "\n",
    "In Xcalar Design, Workbooks represent interactive sessions where you connect to data sources and model your dataflows. Workbooks can be serialized as files. Within a workbook a user can create multiple worksheets, each with multiple tables of data. Xcalar Design included Jupyter Notebook to make it easier to write and debug code directly in the browser, interactively analyze data from a table, and create user-defined functions (UDFs). A workbook can contain multiple Jupyter Notebooks.\n",
    "\n",
    "The Jupyter Notebook integration is designed to assist in adding custom functionality to Xcalar by leveraging User Defined Functions, as well as by building data visualizations and implement analytical and data-science algorithms to use with Xcalar Design. For more on Jupyter integration please refer to <a href=\"#integration\">Xcalar & Jupyter Notebook Integration</a> section below.\n",
    "\n",
    "Xcalar University Tutorial Workbooks are organized in a way to help you learn how to use Xcalar UDFs and Jupyter Notebooks, it expects basic knowledge of Python and familiarity with Jupyter Notebooks. The first Tutorial Workbook that you have opened now introduces into this reach and exciting world of programming capabilities and data adventures in Xcalar."
   ]
  },
  {
   "cell_type": "markdown",
   "metadata": {},
   "source": [
    "## Xcalar User Defined Functions (UDFs)\n",
    "\n",
    "User defined functions (UDFs) allow users to manipulate, generate and export Xcalar tables by writing python programs. \n",
    "UDFs are python programs that accept parameters and perform an operation to produce a value.  They are packaged as UDF modules, defined with a specific name, and multiple functions within. Using UDFs you are able to extend Xcalar's functionality to fit your business needs.\n",
    "\n",
    "UDFs can be uploaded to Xcalar framework using either Xcalar Design UDF panel or the Jupyter Notebook integration. Xcalar Design provides wizards to assist with the creation of UDFs. This is the topic of this tutorial. \n"
   ]
  },
  {
   "cell_type": "markdown",
   "metadata": {},
   "source": [
    "<a name=\"integration\"></a><h2>Xcalar & Jupyter Notebook Integration</h2>\n",
    " \n",
    "Jupyter is an open source content management application that uses Markdown language to render its contents. Users can also write programs directly within Jupyter Notebooks using a variety of programming languages. Xcalar hosts a Python-oriented Jupyter environment that allows users to develop and test their UDFs. More information can be found in the help documentation [Using Xcalar Design with Jupyter Notebook](https://www.xcalar.com/documentation/help/XD/1.3.1/Content/B_CommonTasks/R_UsingJupyter.htm).\n",
    "\n",
    "**Publishing a Table**  \n",
    "Xcalar tables can be converted from an active Xcalar workbook into a Jupyter Notebook for data analysis or visualization. The table data is stored as a Pandas dataframe. For more information about how to publish a table into Jupyter, see [Publishing data from a table to a notebook](https://www.xcalar.com/documentation/help/XD/1.3.1/Content/B_CommonTasks/R_UsingJupyter.htm#Publishi).\n",
    "\n",
    "Note that publishing more than 100 rows from a table at a time is not recommended as it might be slow.\n",
    "\n",
    "**Creating UDFs from Templates**  \n",
    "Xcalar Design provides two UDF templates that can be used from Jupyter Notebooks. Using the templates you can easily create and debug a Map UDF or an Import UDF. For more information about the steps required see [Creating a UDF with a Xcalar UDF template](https://www.xcalar.com/documentation/help/XD/1.3.1/Content/B_CommonTasks/R_UsingJupyter.htm#Connecti). We will also explore UDF templates in this tutorial."
   ]
  },
  {
   "cell_type": "markdown",
   "metadata": {},
   "source": [
    "\n",
    "## UDF Types\n",
    "\n",
    "Xcalar supports several UDF types. In this tutorial we will review Import UDFs (which includes Connector UDFs and Parser UDFs), Map UDFs, and Export UDFs. More information about UDFs can be found in the Xcalar help documentation [Understanding UDFs](https://www.xcalar.com/documentation/help/XD/1.3.1/Content/C_AdvancedTasks/B_UDFUnderstand.htm).\n"
   ]
  },
  {
   "cell_type": "markdown",
   "metadata": {},
   "source": [
    "\n",
    "### Import UDFs\n",
    "\n",
    "Xcalar by default can import data from many known formats such as CSV or JSON. However you may want to import data from a file with a custom format or unstructured data. You may wish to denormalize nested json structures or preprocess data to comply with your business needs. In such cases Xcalar import UDFs allow modification of your data during the import process.\n",
    "\n",
    "The two types of import UDFs are Parser UDFs and Connector UDFs. Parser UDFs import data from files or resources that Xcalar can access directly. Connector UDFs import data from remote data sources such as database servers, REST APIs or custom data APIs.\n",
    "\n",
    "Sample **Import UDF** Jupyter Notebooks included in this tutorial:\n",
    "\n",
    "<html>\n",
    "\n",
    " 1. <a href=\"./1%20-%20Import%20UDF%20Simple%20Parser.ipynb\" target=\"_self\">Import UDF: Simple Parser</a><br>\n",
    " 2. <a href=\"./2%20-%20Import%20UDF%20Parser%20Debugging%20and%20Troubleshooting.ipynb\" target=\"_self\">Import UDF: Simple Parser with Troubleshooting and Debugging</a><br>\n",
    " 3. <a href=\"./3%20-%20Import%20UDF%20-%20Simple%20Connector.ipynb\" target=\"_self\">Import UDF: Simple Connector</a><br>\n",
    "</html>"
   ]
  },
  {
   "cell_type": "markdown",
   "metadata": {},
   "source": [
    "### Map UDFs\n",
    "A map operation takes one or more fields from each row of a Xcalar table as input, performs an operation, and writes the result into a new field on the same row. This process is highly parallelized and repeats for every row in the table. When you execute a Map operation, you can specify a UDF as a Map function.\n",
    "\n",
    "It is important to highlight that map functions repeat for every row of a table, one at a time. Although this helps run your potentially complex algorithms in a highly parallel fashion, you must remember to make your UDF functions as efficient as possible.\n",
    "\n",
    "Sample **Map UDF** Jupyter Notebooks included in this tutorial:\n",
    "\n",
    "<html>\n",
    "\n",
    " 4. <a href=\"./4%20-%20Map%20UDF%20Example.ipynb\" target=\"_self\">Map UDF Example</a><br>\n",
    " 5. <a href=\"./5%20-%20Map%20UDF%20Testing.ipynb\" target=\"_self\">Map UDF Testing</a><br>\n",
    " 6. <a href=\"./6%20-%20Map%20UDF%20Business%20Rules.ipynb\" target=\"_self\">Map UDF Business Rules</a><br>\n",
    "</html>\n"
   ]
  },
  {
   "cell_type": "markdown",
   "metadata": {},
   "source": [
    "### Export UDFs\n",
    "Export UDFs allow you to customize the way you send results of your transformation to downstream systems. For example, you could export Xcalar tables to any data target, such as file, database, Kafka or even sending an email and allow post-processing of data.\n",
    "\n",
    "Sample **Export UDF** Jupyter Notebook included in this tutorial:\n",
    "<html>\n",
    " 7. <a href=\"./7%20-%20Export%20UDF.ipynb\" target=\"_self\">Excel Export UDF</a><br>\n",
    "</html>"
   ]
  }
 ],
 "metadata": {
  "kernelspec": {
   "display_name": "Python 3",
   "language": "python",
   "name": "python3"
  },
  "language_info": {
   "codemirror_mode": {
    "name": "ipython",
    "version": 3
   },
   "file_extension": ".py",
   "mimetype": "text/x-python",
   "name": "python",
   "nbconvert_exporter": "python",
   "pygments_lexer": "ipython3",
   "version": "3.6.4"
  }
 },
 "nbformat": 4,
 "nbformat_minor": 2
}
