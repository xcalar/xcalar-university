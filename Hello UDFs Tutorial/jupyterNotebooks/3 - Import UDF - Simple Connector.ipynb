{
 "cells": [
  {
   "cell_type": "markdown",
   "metadata": {},
   "source": [
    "# Sample Project: Sqlite Connector UDF\n",
    "\n",
    "In this tutorial you will create a Connector UDF that reads data from an external source and imports it into Xcalar. This is similar to the Parser UDF examples, but instead of a source file such as a csv, Connector UDFs take a config file that abstracts out the connection and points it to a database or other resources containing data.\n",
    "<HTML>\n",
    "<br>\n",
    "<div style=\"position: relative;\n",
    "    padding: 10px 10px 10px 100px;\n",
    "    border: 1px solid #BFBFBF;\n",
    "    box-shadow: 5px 5px 5px #aaaaaa;\">\n",
    "    <img src=\"xi-questionmark_yellow.png\" \n",
    "         style=\"position: absolute; top: 15x; left: 10px; width:50px; height:50px\" />\n",
    "    <font style=\"font-size:20px\">\n",
    "What is a connector UDF?</font>\n",
    "<br>Connector UDFs import data from remote data sources such as database servers, REST APIs or custom data APIs. To learn more about UDFs refer to\n",
    "[this link](https://www.xcalar.com/documentation/help/XD/1.3.1/Content/C_AdvancedTasks/B_UDFUnderstand.htm?Highlight=MAP%20UDFs/).\n",
    "    \n",
    "</div>\n",
    "<br>\n",
    "</HTML>\n",
    "\n",
    "\n",
    "<HTML>\n",
    "<br>\n",
    "<div style=\"position: relative;\n",
    "    padding: 10px 10px 10px 100px;\n",
    "    border: 1px solid #BFBFBF;\n",
    "    box-shadow: 5px 5px 5px #aaaaaa;\">\n",
    "    <img src=\"xi-questionmark_yellow.png\" \n",
    "         style=\"position: absolute;top: 20x;left: 10px;width:50px ;height:50px\" />\n",
    "    <font style=\"font-size:20px\">\n",
    "What is a config file?</font>\n",
    "<br>Like parser UDFs, connector UDFs also take two arguments, a file name and an io stream to the given file.\n",
    "Unlike parser UDFs, the data source of a connector UDF might be a database or a set of web resources rather than an actual data source file. One of the best practices is to point to a configuration file in place of datasource file when invoking a connector UDF. This configuration file abstracts out the connection and might store parameters such as database connection strings, user credentials, filter criterias, etc. \n",
    "</div>\n",
    "<br>\n",
    "</HTML>"
   ]
  },
  {
   "cell_type": "markdown",
   "metadata": {},
   "source": [
    "\n",
    "### SQLite\n",
    "\n",
    "Sqlite is a lightweight open source relational database engine which is embedded in the client program rather than being run as a separate db server. This serverless architecture makes SQLite a good solution for rapid prototyping. This chapter will teach you how to implement a SQLite connector for Xcalar. \n",
    "\n",
    "\n",
    "First, we need to create a SQLite database file at a location accessible to xcalar and create a securities table with the schema below:  \n",
    "```\n",
    "CREATE TABLE stocks (  \n",
    "security TEXT,  \n",
    "date TEXT,  \n",
    "asked NUMBER,  \n",
    "bid NUMBER,  \n",
    "sale NUMBER,  \n",
    "volume NUMBER  \n",
    ");  \n",
    "```\n",
    "\n",
    "The following code block creates a SQLite file, the stocks table and then it inserts 10000 random records. Highlight the cell and run."
   ]
  },
  {
   "cell_type": "code",
   "execution_count": 1,
   "metadata": {},
   "outputs": [
    {
     "name": "stdout",
     "output_type": "stream",
     "text": [
      "Data has been generated!\n"
     ]
    }
   ],
   "source": [
    "import sqlite3\n",
    "import random\n",
    "from datetime import datetime, timedelta\n",
    "def genRandomMarketData(dayCount):\n",
    "    #headers =\"Security,date,Bid,Ask,Bid size,Ask size,Last Sale,Last size,Volume\"\n",
    "    #fake stock names\n",
    "    securities = [\"GGX\" ,\"ABC\" , \"ZZM\" , \"XEW\" , \"FFG\" ,\"UYT\",\"RTF\"]\n",
    "    # Connecting to the database file\n",
    "    sqlite_file = '/tmp/stocks.sqlite'    # name of the sqlite database file\n",
    "    query = \"\"\"\n",
    "        CREATE TABLE stocks (\n",
    "        security TEXT,\n",
    "        date TEXT,\n",
    "        asked NUMBER,\n",
    "        bid NUMBER,\n",
    "        sale NUMBER,\n",
    "        volume NUMBER\n",
    "        );\n",
    "        \"\"\"\n",
    "    conn = sqlite3.connect(sqlite_file)\n",
    "    c = conn.cursor()\n",
    "    c.execute(\"DROP TABLE IF EXISTS stocks;\")\n",
    "    c.execute(query)\n",
    "    for rec in range (1, dayCount +1):\n",
    "        date = datetime.today() - timedelta(days=rec)\n",
    "        for security in securities:\n",
    "            ask = random.uniform(40,500)\n",
    "            bid = ask + random.uniform(1,3)\n",
    "            bidSize = random.randint(400,1500)\n",
    "            askSize = random.randint(400,1500)\n",
    "            lastSale = ask + random.uniform(-3,+3)\n",
    "            lastSize = random.randint(400,1500)\n",
    "            volume = random.randint(5000,15000)\n",
    "            query = \"INSERT INTO stocks(security,date,asked,bid,sale,volume)VALUES('\"\n",
    "            query += security + \"','\"+date.strftime('%m.%d.%Y')+\"','\"+str(ask)+\"','\"+str(bid)+\"','\"+str(lastSale)+\"','\"+str(volume)+\"')\";\n",
    "            c.execute(query)\n",
    "# Committing changes and closing the connection to the database file\n",
    "    conn.commit()\n",
    "    conn.close()\n",
    "    print('Data has been generated!')\n",
    "    \n",
    "genRandomMarketData(10000)"
   ]
  },
  {
   "cell_type": "markdown",
   "metadata": {},
   "source": [
    "### Check that the database was properly created\n",
    "\n",
    "To check if your database was created, run the code below to connect which your SQLite database and pull 10 records."
   ]
  },
  {
   "cell_type": "code",
   "execution_count": 2,
   "metadata": {},
   "outputs": [
    {
     "name": "stdout",
     "output_type": "stream",
     "text": [
      "('GGX', '05.25.2018', 425.66889640438916, 426.8253079673379, 427.2704239296686, 10407)\n",
      "('ABC', '05.25.2018', 426.25197563290044, 428.77873543312677, 424.7202662094225, 12164)\n",
      "('ZZM', '05.25.2018', 73.45585614006947, 75.35799138192672, 75.25071873562945, 12720)\n",
      "('XEW', '05.25.2018', 290.58311531628135, 293.36638981870686, 288.96322349468323, 6049)\n",
      "('FFG', '05.25.2018', 210.2101149953876, 212.1829126146943, 213.10110184037498, 8797)\n",
      "('UYT', '05.25.2018', 216.92426586651501, 219.7458985286148, 219.0758685489486, 14973)\n",
      "('RTF', '05.25.2018', 219.69802689012806, 221.07247188947375, 222.31194217384063, 13573)\n",
      "('GGX', '05.24.2018', 419.8566644707482, 421.5340377856436, 420.7113040940483, 12611)\n",
      "('ABC', '05.24.2018', 248.10383365272918, 250.18304053343934, 246.34317939913421, 13141)\n",
      "('ZZM', '05.24.2018', 299.28948401456546, 301.692765720327, 300.65308302922773, 11276)\n"
     ]
    }
   ],
   "source": [
    "import sqlite3\n",
    "sqlite_file = '/tmp/stocks.sqlite'    # name of the sqlite database file\n",
    "conn = sqlite3.connect(sqlite_file)\n",
    "cursor = conn.cursor()\n",
    "cursor = conn.execute(\"SELECT * from stocks LIMIT 10\")\n",
    "for row in cursor:\n",
    "    print (row)"
   ]
  },
  {
   "cell_type": "markdown",
   "metadata": {},
   "source": [
    "### Implementing the Config File\n",
    "\n",
    "Let’s build our config file. Usually a config file stores various connection and query parameters such as database name, host, type, query etc. For the purposes of this example let’s make it simple: our config file will contain location of the SQLite database file and the list of stocks to import.\n",
    "\n",
    "The following code block creates a SQLite config file and writes it to the `/tmp/` folder. You may want to keep these config files in a more strategic directories in your actual implementation."
   ]
  },
  {
   "cell_type": "code",
   "execution_count": 3,
   "metadata": {},
   "outputs": [
    {
     "name": "stdout",
     "output_type": "stream",
     "text": [
      "Created /tmp/sqlite.config file: 110 bytes\n"
     ]
    }
   ],
   "source": [
    "# To establish a connection to a sqlite file you need  the location of the database file\n",
    "# You also add query parameters in our config file. Stocks are the securities to query in our UDF\n",
    "config_data = \"\"\"{\n",
    "  \"database file\" : \"/tmp/stocks.sqlite\", \n",
    "  \"stocks\":[\"GGX\" ,\"ABC\" , \"ZZM\" , \"XEW\" , \"FFG\" ,\"UYT\",\"RTF\"] \n",
    "}\"\"\"\n",
    "\n",
    "file_path = \"/tmp/sqlite.config\"\n",
    "file = open(file_path,\"w\") \n",
    "file.write (config_data)\n",
    "file.close()\n",
    "\n",
    "# test the config file was created\n",
    "import os\n",
    "print(\"Created {} file: {} bytes\".format(file_path, os.stat(file_path).st_size))"
   ]
  },
  {
   "cell_type": "markdown",
   "metadata": {},
   "source": [
    "### Implementing the Connector UDF\n",
    "\n",
    "Remember that the *fullPath* parameter is the location of the config file and the *inStream* reads from the config file and not from the database file. In the code below we establish the database connection to the SQLite file and retrieve the data.\n",
    "\n",
    "The code below iterates over each row in the source dataset and inserts it into the target table. \n",
    "The **record = {}** variable is a dictionary with column name as keys and column values as values.\n",
    "Each **record** variable represents a single row containing all columns to be inserted into the new Xcalar table.\n",
    "Each record is passed to the Python yield generator to be inserted into the table."
   ]
  },
  {
   "cell_type": "code",
   "execution_count": 4,
   "metadata": {},
   "outputs": [],
   "source": [
    "# Query stocks table from  sqlite database\n",
    "# Return rows in Xcalar import format\n",
    "def sqlite3_import_udf (fullPath, inStream): #<== First param of the UDF is giving us the config file\n",
    "    import sqlite3\n",
    "    import codecs \n",
    "    import datetime\n",
    "    from ast import literal_eval           #to deserialize dictionary in config file\n",
    "    Utf8Reader = codecs.getreader(\"utf-8\") #  Xcalar opens and streams files in binary mode,\n",
    "    utf8Stream = Utf8Reader(inStream)      #  We need a codec to convert it to UTF-8\n",
    "    config = utf8Stream.read()             #  Read content of the config file to a python string\n",
    "    dict = literal_eval(config)            # convert the string to a dictionary   \n",
    "    conn = sqlite3.connect(dict [\"database file\"])\n",
    "    where_clause = \" WHERE \"\n",
    "    index = 0\n",
    "    for stock in dict[\"stocks\"]: # build WHERE CLAUSE\n",
    "        where_clause += \"security ='\" + stock + \"'\"\n",
    "        if index < len(dict[\"stocks\"]) - 1:\n",
    "            where_clause +=\" OR \"\n",
    "        index += 1\n",
    "    cursor = conn.execute(\"select * from stocks\"+where_clause)\n",
    "    headers = [description[0] for description in cursor.description]\n",
    "    for row in cursor:\n",
    "        column_indx = 0;\n",
    "        record = {}\n",
    "        for val in row:\n",
    "            record[headers[column_indx]] = val\n",
    "            column_indx += 1\n",
    "        yield (row)"
   ]
  },
  {
   "cell_type": "markdown",
   "metadata": {},
   "source": [
    "\n",
    "### Adding this UDF to Xcalar\n",
    "\n",
    "<HTML>\n",
    "    <br>\n",
    "Adding a UDF to Xcalar has already been covered in <a href=\"./1%20-%20Import%20UDF%20Simple%20Parser.ipynb\" target=\"_self\">Import UDF Simple Parser</a>. As a reminder, the steps you need to take are:\n",
    "<br>\n",
    "</HTML>"
   ]
  },
  {
   "cell_type": "markdown",
   "metadata": {},
   "source": [
    "### Connecting Jupyter Notebook to Xcalar\n",
    "\n",
    "Before utilizing this UDF, you need to establish a connection to the Xcalar session. \n",
    "\n",
    "1.   Click the <b>CODE SNIPPETS</b> dropdown menu in the top right corner of Jupyter.\n",
    "2.   Select <b>Connect to Xcalar Workbook</b>.\n",
    "3.   Run the code cell containing the generated code to connect Jupyter to you current workbook.\n",
    "\n",
    "Please highlight the following cell and <b>Run</b>."
   ]
  },
  {
   "cell_type": "code",
   "execution_count": 5,
   "metadata": {},
   "outputs": [],
   "source": [
    "# Xcalar Notebook Connector\n",
    "# \n",
    "# Connects this Jupyter Notebook to the Xcalar Workbook <wb-1>\n",
    "#\n",
    "# To use any data from your Xcalar Workbook, run this snippet before other \n",
    "# Xcalar Snippets in your workbook. \n",
    "# \n",
    "# A best practice is not to edit this cell.\n",
    "#\n",
    "# If you wish to use this Jupyter Notebook with a different Xcalar Workbook \n",
    "# delete this cell and click CODE SNIPPETS --> Connect to Xcalar Workbook.\n",
    "\n",
    "%matplotlib inline\n",
    "\n",
    "# Importing third-party modules to facilitate data work. \n",
    "import pandas as pd\n",
    "import matplotlib.pyplot as plt\n",
    "\n",
    "# Importing Xcalar packages and modules. \n",
    "# For more information, search and post questions on discourse.xcalar.com\n",
    "from xcalar.compute.api.XcalarApi import XcalarApi\n",
    "from xcalar.compute.api.Session import Session\n",
    "from xcalar.compute.api.WorkItem import WorkItem\n",
    "from xcalar.compute.api.ResultSet import ResultSet\n",
    "\n",
    "# Create a XcalarApi object\n",
    "xcalarApi = XcalarApi()\n",
    "# Connect to current workbook that you are in\n",
    "workbook = Session(xcalarApi, \"xdpadmin\", \"xdpadmin\", 4399150, True, \"TutorialNotebooks-HelloUDF-Full\")\n",
    "xcalarApi.setSession(workbook)"
   ]
  },
  {
   "cell_type": "markdown",
   "metadata": {},
   "source": [
    "1.   Click the <b>CODE SNIPPETS</b> dropdown menu in the top right corner of Jupyter.\n",
    "2.   Select <b>Connect to Xcalar workbook</b>.\n",
    "3.   Run the code cell containing the generated code to connect Jupyter to you current workbook.\n",
    "4.   Again, click the <b>CODE SNIPPETS</b> dropdown.\n",
    "5.   This time select <b>Create Import UDF</b>.\n",
    "\n",
    "After creating the Import UDF, add your code into the template. If you follow these steps, you should end up with the code snippet below.\n"
   ]
  },
  {
   "cell_type": "code",
   "execution_count": 6,
   "metadata": {},
   "outputs": [
    {
     "name": "stdout",
     "output_type": "stream",
     "text": [
      "The following should look like a proper table with headings.\n"
     ]
    },
    {
     "data": {
      "text/html": [
       "<table><tr><th>security</th><th>date</th><th>asked</th><th>bid</th><th>sale</th><th>volume</th></tr><tr><td>GGX</td><td>05.25.2018</td><td>425.66889640438916</td><td>426.8253079673379</td><td>427.2704239296686</td><td>10407</td></tr><tr><td>ABC</td><td>05.25.2018</td><td>426.25197563290044</td><td>428.77873543312677</td><td>424.7202662094225</td><td>12164</td></tr><tr><td>ZZM</td><td>05.25.2018</td><td>73.45585614006947</td><td>75.35799138192672</td><td>75.25071873562945</td><td>12720</td></tr><tr><td>XEW</td><td>05.25.2018</td><td>290.58311531628135</td><td>293.36638981870686</td><td>288.96322349468323</td><td>6049</td></tr><tr><td>FFG</td><td>05.25.2018</td><td>210.2101149953876</td><td>212.1829126146943</td><td>213.10110184037498</td><td>8797</td></tr><tr><td>UYT</td><td>05.25.2018</td><td>216.92426586651501</td><td>219.7458985286148</td><td>219.0758685489486</td><td>14973</td></tr><tr><td>RTF</td><td>05.25.2018</td><td>219.69802689012806</td><td>221.07247188947375</td><td>222.31194217384063</td><td>13573</td></tr><tr><td>GGX</td><td>05.24.2018</td><td>419.8566644707482</td><td>421.5340377856436</td><td>420.7113040940483</td><td>12611</td></tr><tr><td>ABC</td><td>05.24.2018</td><td>248.10383365272918</td><td>250.18304053343934</td><td>246.34317939913421</td><td>13141</td></tr><tr><td>ZZM</td><td>05.24.2018</td><td>299.28948401456546</td><td>301.692765720327</td><td>300.65308302922773</td><td>11276</td></tr><tr><td>XEW</td><td>05.24.2018</td><td>229.64036999686695</td><td>232.0117828176521</td><td>227.68430085455037</td><td>11641</td></tr><tr><td>FFG</td><td>05.24.2018</td><td>372.89351101318107</td><td>374.7695639930128</td><td>374.7326282208036</td><td>7727</td></tr><tr><td>UYT</td><td>05.24.2018</td><td>369.6834634968571</td><td>371.9776774746625</td><td>367.93790087255076</td><td>9355</td></tr><tr><td>RTF</td><td>05.24.2018</td><td>395.19549631309906</td><td>398.0527195935375</td><td>392.49823405243217</td><td>9785</td></tr><tr><td>GGX</td><td>05.23.2018</td><td>145.88829525249656</td><td>148.18431400905</td><td>147.3549316522071</td><td>10881</td></tr><tr><td>ABC</td><td>05.23.2018</td><td>436.65812568934786</td><td>437.9851123755867</td><td>437.8310467217688</td><td>8391</td></tr><tr><td>ZZM</td><td>05.23.2018</td><td>152.5650634896986</td><td>153.78047290526732</td><td>152.56747730364606</td><td>5924</td></tr><tr><td>XEW</td><td>05.23.2018</td><td>294.7224035077911</td><td>296.2302074181686</td><td>292.9037857294433</td><td>6386</td></tr><tr><td>FFG</td><td>05.23.2018</td><td>196.00713499988305</td><td>197.89621517569122</td><td>194.23552095421468</td><td>11882</td></tr><tr><td>UYT</td><td>05.23.2018</td><td>295.94801028239914</td><td>297.24169496515884</td><td>294.0949828155574</td><td>10597</td></tr><tr><td>RTF</td><td>05.23.2018</td><td>260.84960278152386</td><td>262.3353073676339</td><td>262.2233542471238</td><td>11720</td></tr><tr><td>GGX</td><td>05.22.2018</td><td>443.72841872488164</td><td>444.8783528383755</td><td>446.15494473590496</td><td>8725</td></tr><tr><td>ABC</td><td>05.22.2018</td><td>450.95792101585926</td><td>452.5719391990954</td><td>451.0166559605482</td><td>7590</td></tr><tr><td>ZZM</td><td>05.22.2018</td><td>231.12985139851602</td><td>233.55798425218032</td><td>233.49844020090563</td><td>11380</td></tr><tr><td>XEW</td><td>05.22.2018</td><td>174.3249673198751</td><td>176.46817033980932</td><td>171.5602394843591</td><td>5309</td></tr><tr><td>FFG</td><td>05.22.2018</td><td>478.9566674325895</td><td>481.87866465793695</td><td>476.78183086457045</td><td>10669</td></tr><tr><td>UYT</td><td>05.22.2018</td><td>58.32714726466503</td><td>60.399202182277065</td><td>57.18718454590491</td><td>8077</td></tr><tr><td>RTF</td><td>05.22.2018</td><td>257.7385902739054</td><td>258.7608762450332</td><td>259.1542609549099</td><td>5367</td></tr><tr><td>GGX</td><td>05.21.2018</td><td>129.9189896488663</td><td>131.20138224438014</td><td>131.55978350385723</td><td>13209</td></tr><tr><td>ABC</td><td>05.21.2018</td><td>448.6612542521843</td><td>450.6065624476167</td><td>451.4851353177555</td><td>14198</td></tr><tr><td>ZZM</td><td>05.21.2018</td><td>244.4670390262178</td><td>246.21661848645877</td><td>244.30527648442842</td><td>10520</td></tr><tr><td>XEW</td><td>05.21.2018</td><td>473.2905412103669</td><td>475.64532462325064</td><td>475.82507669661373</td><td>13640</td></tr><tr><td>FFG</td><td>05.21.2018</td><td>151.53185683013007</td><td>153.84595616892832</td><td>149.30592928934556</td><td>7632</td></tr><tr><td>UYT</td><td>05.21.2018</td><td>252.3551325692162</td><td>254.8460254697276</td><td>251.49673191670306</td><td>8323</td></tr><tr><td>RTF</td><td>05.21.2018</td><td>225.34315829648318</td><td>228.21835985345217</td><td>224.166513432776</td><td>6254</td></tr><tr><td>GGX</td><td>05.20.2018</td><td>383.64738616492735</td><td>385.41427903287024</td><td>381.8743753449424</td><td>13924</td></tr><tr><td>ABC</td><td>05.20.2018</td><td>132.56881708499054</td><td>134.27210185011538</td><td>135.17709456685887</td><td>8347</td></tr><tr><td>ZZM</td><td>05.20.2018</td><td>196.72205417058294</td><td>198.1449303576055</td><td>198.30380801207073</td><td>5452</td></tr><tr><td>XEW</td><td>05.20.2018</td><td>306.2956253269445</td><td>308.3588350008008</td><td>304.3195709184219</td><td>8414</td></tr><tr><td>FFG</td><td>05.20.2018</td><td>190.5639984386788</td><td>191.75111277324027</td><td>190.88559910026035</td><td>13784</td></tr><tr><td>UYT</td><td>05.20.2018</td><td>399.612392804232</td><td>402.25641617275306</td><td>398.71469643947387</td><td>10727</td></tr><tr><td>RTF</td><td>05.20.2018</td><td>213.7808269158421</td><td>215.35572792641253</td><td>211.13421988468403</td><td>9093</td></tr><tr><td>GGX</td><td>05.19.2018</td><td>71.75069376890906</td><td>74.45871784250794</td><td>69.20745228208125</td><td>7724</td></tr><tr><td>ABC</td><td>05.19.2018</td><td>61.473744303841045</td><td>62.5592276875922</td><td>61.970857519740456</td><td>10263</td></tr><tr><td>ZZM</td><td>05.19.2018</td><td>475.1337375090253</td><td>477.2048345507928</td><td>475.07111166986255</td><td>7966</td></tr><tr><td>XEW</td><td>05.19.2018</td><td>413.9940893706488</td><td>415.92672796973443</td><td>411.40459020679157</td><td>6401</td></tr><tr><td>FFG</td><td>05.19.2018</td><td>112.9855065858204</td><td>114.96796501923451</td><td>112.66148792720645</td><td>7901</td></tr><tr><td>UYT</td><td>05.19.2018</td><td>238.31313752483769</td><td>239.4046419254264</td><td>240.76747145069095</td><td>9945</td></tr><tr><td>RTF</td><td>05.19.2018</td><td>232.90226134330206</td><td>234.2668415027836</td><td>234.33387104427658</td><td>7795</td></tr><tr><td>GGX</td><td>05.18.2018</td><td>73.33893284336845</td><td>75.67791876812012</td><td>74.94896720676832</td><td>9515</td></tr><tr><td>ABC</td><td>05.18.2018</td><td>44.47566728033011</td><td>46.42657993190376</td><td>42.27013262898928</td><td>6009</td></tr><tr><td>ZZM</td><td>05.18.2018</td><td>412.32885293721483</td><td>414.85307265379305</td><td>412.2543643203402</td><td>5851</td></tr><tr><td>XEW</td><td>05.18.2018</td><td>340.29441008007376</td><td>341.88974772017957</td><td>338.21348498535997</td><td>10328</td></tr><tr><td>FFG</td><td>05.18.2018</td><td>395.92465190978953</td><td>397.81071703513953</td><td>396.92919004148393</td><td>5380</td></tr><tr><td>UYT</td><td>05.18.2018</td><td>321.990213935757</td><td>323.41500085034727</td><td>320.2238505906513</td><td>7994</td></tr><tr><td>RTF</td><td>05.18.2018</td><td>110.45663907282805</td><td>112.04821295862548</td><td>112.0826468572043</td><td>9907</td></tr><tr><td>GGX</td><td>05.17.2018</td><td>60.27922177512923</td><td>61.767485138810116</td><td>57.45916245457977</td><td>12678</td></tr><tr><td>ABC</td><td>05.17.2018</td><td>437.33447076080955</td><td>440.2758397111365</td><td>437.31275689900025</td><td>8658</td></tr><tr><td>ZZM</td><td>05.17.2018</td><td>395.710430088097</td><td>398.00556619727877</td><td>397.96905229835465</td><td>7536</td></tr><tr><td>XEW</td><td>05.17.2018</td><td>156.27460312657087</td><td>157.9138952369896</td><td>154.63600817241556</td><td>9933</td></tr><tr><td>FFG</td><td>05.17.2018</td><td>428.79569440328953</td><td>429.89762112380185</td><td>431.31649758623354</td><td>11507</td></tr><tr><td>UYT</td><td>05.17.2018</td><td>330.9948480744123</td><td>333.60761020053434</td><td>329.37508881678707</td><td>14518</td></tr><tr><td>RTF</td><td>05.17.2018</td><td>495.4945747152905</td><td>497.14107762791224</td><td>496.55718428958204</td><td>14960</td></tr><tr><td>GGX</td><td>05.16.2018</td><td>89.09735014925099</td><td>90.28285181501731</td><td>90.754661387831</td><td>6231</td></tr><tr><td>ABC</td><td>05.16.2018</td><td>50.90584702659345</td><td>51.96101065689129</td><td>50.37259379984254</td><td>6699</td></tr><tr><td>ZZM</td><td>05.16.2018</td><td>40.98128587983333</td><td>42.592167192815275</td><td>42.40121064836544</td><td>14995</td></tr><tr><td>XEW</td><td>05.16.2018</td><td>93.36129028655128</td><td>96.14557289171837</td><td>92.69128264111997</td><td>6912</td></tr><tr><td>FFG</td><td>05.16.2018</td><td>303.0725086407653</td><td>305.27633277066235</td><td>304.1746614088259</td><td>14565</td></tr><tr><td>UYT</td><td>05.16.2018</td><td>485.2873335171074</td><td>487.19101613192737</td><td>483.4587388757444</td><td>6584</td></tr><tr><td>RTF</td><td>05.16.2018</td><td>394.5490221140512</td><td>396.622579309494</td><td>394.020287130444</td><td>14285</td></tr><tr><td>GGX</td><td>05.15.2018</td><td>481.57367805079855</td><td>483.57218891938504</td><td>484.33399795270435</td><td>10691</td></tr><tr><td>ABC</td><td>05.15.2018</td><td>424.37126571933817</td><td>425.7732813523157</td><td>425.1333298041477</td><td>9427</td></tr><tr><td>ZZM</td><td>05.15.2018</td><td>233.03480772859305</td><td>234.32538170704396</td><td>232.69118389760376</td><td>8461</td></tr><tr><td>XEW</td><td>05.15.2018</td><td>278.92032436354083</td><td>281.83605336662777</td><td>280.64210512837843</td><td>7328</td></tr><tr><td>FFG</td><td>05.15.2018</td><td>369.21208875628685</td><td>371.90843516596345</td><td>367.8765844460449</td><td>9581</td></tr><tr><td>UYT</td><td>05.15.2018</td><td>362.78012657614016</td><td>364.3524145375698</td><td>360.88780764314777</td><td>5690</td></tr><tr><td>RTF</td><td>05.15.2018</td><td>270.07191526792735</td><td>271.9694260979581</td><td>268.527424378706</td><td>12112</td></tr><tr><td>GGX</td><td>05.14.2018</td><td>449.21546210655015</td><td>451.9108397992307</td><td>448.3993821062178</td><td>10182</td></tr><tr><td>ABC</td><td>05.14.2018</td><td>442.86487207852866</td><td>445.3095063305936</td><td>444.5358423222983</td><td>9785</td></tr><tr><td>ZZM</td><td>05.14.2018</td><td>194.68032818616612</td><td>196.45698164317096</td><td>191.746918718329</td><td>10421</td></tr><tr><td>XEW</td><td>05.14.2018</td><td>454.6165951854365</td><td>456.1592633601707</td><td>457.0430199901735</td><td>13619</td></tr><tr><td>FFG</td><td>05.14.2018</td><td>90.164090717784</td><td>91.40215374725885</td><td>89.97231699085472</td><td>12727</td></tr><tr><td>UYT</td><td>05.14.2018</td><td>78.0104134383165</td><td>80.09892337023354</td><td>76.50058250928522</td><td>7245</td></tr><tr><td>RTF</td><td>05.14.2018</td><td>310.6638393114299</td><td>312.4553584002343</td><td>311.15786425068336</td><td>13327</td></tr><tr><td>GGX</td><td>05.13.2018</td><td>214.65695746125613</td><td>217.3328948625959</td><td>216.08775784735144</td><td>5145</td></tr><tr><td>ABC</td><td>05.13.2018</td><td>113.32476598227709</td><td>114.49651473159787</td><td>115.68400747683674</td><td>11667</td></tr><tr><td>ZZM</td><td>05.13.2018</td><td>257.8202606197683</td><td>258.8957283932273</td><td>260.1194583683078</td><td>10207</td></tr><tr><td>XEW</td><td>05.13.2018</td><td>342.93770835073263</td><td>344.08323157742353</td><td>340.2074650169402</td><td>6059</td></tr><tr><td>FFG</td><td>05.13.2018</td><td>169.87072724670725</td><td>170.96415834787905</td><td>170.0707987384351</td><td>8845</td></tr><tr><td>UYT</td><td>05.13.2018</td><td>188.6246111406226</td><td>191.02532473554334</td><td>189.51211263967826</td><td>5229</td></tr><tr><td>RTF</td><td>05.13.2018</td><td>131.78901065083636</td><td>132.98740580163667</td><td>129.98831317803607</td><td>12961</td></tr><tr><td>GGX</td><td>05.12.2018</td><td>215.774701618168</td><td>217.72322860053555</td><td>216.0516967506742</td><td>5846</td></tr><tr><td>ABC</td><td>05.12.2018</td><td>181.46994742963392</td><td>183.92161550300852</td><td>179.5005723873735</td><td>9377</td></tr><tr><td>ZZM</td><td>05.12.2018</td><td>66.94027568001937</td><td>68.89713471812205</td><td>69.56343562273396</td><td>6561</td></tr><tr><td>XEW</td><td>05.12.2018</td><td>407.510249142972</td><td>410.0933711348646</td><td>406.0430323343792</td><td>5395</td></tr><tr><td>FFG</td><td>05.12.2018</td><td>202.01125154812368</td><td>203.03322073862887</td><td>202.2609198019266</td><td>5450</td></tr><tr><td>UYT</td><td>05.12.2018</td><td>429.99659372560444</td><td>432.6721045107197</td><td>429.7619269580926</td><td>6457</td></tr><tr><td>RTF</td><td>05.12.2018</td><td>181.88111758845196</td><td>184.30844374605027</td><td>182.6828395332995</td><td>6483</td></tr><tr><td>GGX</td><td>05.11.2018</td><td>74.84300498417335</td><td>76.57380162861077</td><td>73.6927352548817</td><td>11130</td></tr><tr><td>ABC</td><td>05.11.2018</td><td>481.3943923244038</td><td>483.6057397887513</td><td>480.3546776923431</td><td>14081</td></tr></table>"
      ],
      "text/plain": [
       "<IPython.core.display.HTML object>"
      ]
     },
     "metadata": {},
     "output_type": "display_data"
    },
    {
     "name": "stdout",
     "output_type": "stream",
     "text": [
      "End of UDF\n"
     ]
    }
   ],
   "source": [
    "# Xcalar Import UDF Template\n",
    "#\n",
    "# This is a function definition for a Python UDF to import external data source\n",
    "# file <Default Shared Root:/tmp/sqlite.config>\n",
    "#\n",
    "# Module name: <simple_connector>\n",
    "# Function name: <sqlite3_import_udf>\n",
    "#\n",
    "# REQUIREMENTS: Import UDF functions take two arguments...\n",
    "#   fullPath: The file path to the data source file being imported.\n",
    "#   inStream: A binary stream of the data source file.\n",
    "#\n",
    "#   Your Import UDF function must be a generator, a Python function which\n",
    "#   processes and returns a stream of data.\n",
    "#\n",
    "# To create an import UDF, modify the function definition immediately below this\n",
    "# comment, as necessary.\n",
    "#\n",
    "# To test your UDF, run this cell. (Hit <control> + <enter>.)\n",
    "#\n",
    "# To apply it to your dataset, click the \"Apply UDF on Dataset Panel\" button.\n",
    "#\n",
    "#\n",
    "# NOTE: Use discipline before replacing this module. Consider whether the import of older\n",
    "# data source files using this UDF will be affected by this change. If so, versioning this\n",
    "# module may be appropriate.\n",
    "#\n",
    "# Best practice is to name helper functions by starting with __. Such\n",
    "# functions will be considered private functions and will not be directly\n",
    "# invokable from Xcalar tools.\n",
    "\n",
    "# Function definition for your Import UDF.\n",
    "def sqlite3_import_udf (fullPath, inStream): #<== First param of the UDF is giving us the config file\n",
    "    import sqlite3\n",
    "    import codecs \n",
    "    import datetime\n",
    "    from ast import literal_eval             #to deserialize dictionary in config file\n",
    "    Utf8Reader = codecs.getreader(\"utf-8\")   #  Xcalar opens and streams files in binary mode,\n",
    "    utf8Stream = Utf8Reader(inStream)        #  We need a codec to convert it to UTF-8\n",
    "    #Read config Param\n",
    "    config = utf8Stream.read()               #  Read content of the config file to a python string\n",
    "    #load the config file into a dictionary\n",
    "    dict = literal_eval(config)              # convert the string to a dictionary   \n",
    "    conn = sqlite3.connect(dict [\"database file\"])\n",
    "    where_clause = \" WHERE \"\n",
    "    index = 0\n",
    "    for stock in dict[\"stocks\"]:             # build WHERE CLAUSE\n",
    "        where_clause += \"security ='\" + stock + \"'\"\n",
    "        if index < len(dict[\"stocks\"]) - 1:\n",
    "            where_clause +=\" OR \"\n",
    "        index += 1\n",
    "    cursor = conn.execute(\"select * from stocks\" + where_clause)\n",
    "    headers = [description[0] for description in cursor.description]\n",
    "    for row in cursor:\n",
    "        column_indx = 0;\n",
    "        record = {}\n",
    "        for val in row:\n",
    "            record[headers[column_indx]] = val\n",
    "            column_indx += 1\n",
    "        yield (record)\n",
    "\n",
    "### WARNING DO NOT EDIT CODE BELOW THIS LINE ###\n",
    "from xcalar.compute.api.Dataset import *\n",
    "from xcalar.compute.coretypes.DataFormatEnums.ttypes import DfFormatTypeT\n",
    "from xcalar.compute.api.Udf import Udf\n",
    "from xcalar.compute.coretypes.LibApisCommon.ttypes import XcalarApiException\n",
    "import random\n",
    "\n",
    "def uploadUDF():\n",
    "    import inspect\n",
    "    sourceCode = \"\".join(inspect.getsourcelines(sqlite3_import_udf)[0])\n",
    "    try:\n",
    "        Udf(xcalarApi).add(\"simple_connector\", sourceCode)\n",
    "    except XcalarApiException as e:\n",
    "        if e.status == StatusT.StatusUdfModuleAlreadyExists:\n",
    "            Udf(xcalarApi).update(\"simple_connector\", sourceCode)\n",
    "\n",
    "def testImportUDF():\n",
    "    from IPython.core.display import display, HTML\n",
    "    userName = \"temp\"\n",
    "    tempDatasetName = userName + \".\" + str(random.randint(10000,99999)) + \"jupyterDS\" + str(random.randint(10000,99999))\n",
    "    dataset = UdfDataset(xcalarApi,\n",
    "        \"Default Shared Root\",\n",
    "        \"/tmp/sqlite.config\",\n",
    "        tempDatasetName,\n",
    "        \"simple_connector:sqlite3_import_udf\")\n",
    "\n",
    "    dataset.load()\n",
    "\n",
    "    resultSet = ResultSet(xcalarApi, datasetName=dataset.name, maxRecords=100)\n",
    "\n",
    "    NUMROWS = 100\n",
    "    rowN = 0\n",
    "    numCols = 0\n",
    "    headers = []\n",
    "    data = []\n",
    "    for row in resultSet:\n",
    "        if rowN >= NUMROWS:\n",
    "            break\n",
    "        newRow = [\"\"] * numCols\n",
    "        for key in row:\n",
    "            idx = headers.index(key) if key in headers else -1\n",
    "            if idx > -1:\n",
    "                newRow[idx] = row[key]\n",
    "            else:\n",
    "                numCols += 1\n",
    "                newRow.append(row[key])\n",
    "                headers.append(key)\n",
    "        data.append(newRow)\n",
    "        rowN += 1\n",
    "    data = [row + [\"\"] * (numCols - len(row)) for row in data]\n",
    "\n",
    "    print(\"The following should look like a proper table with headings.\")\n",
    "    display(HTML(\n",
    "            '<table><tr><th>{}</th></tr><tr>{}</tr></table>'.format(\n",
    "            '</th><th>'.join(headers),\n",
    "            '</tr><tr>'.join('<td>{}</td>'.format('</td><td>'.join(str(_) for _ in row)) for row in data)\n",
    "            )))\n",
    "\n",
    "    dataset.delete()\n",
    "    print(\"End of UDF\")\n",
    "\n",
    "# Test import UDF on file\n",
    "uploadUDF()\n",
    "testImportUDF()"
   ]
  },
  {
   "cell_type": "markdown",
   "metadata": {},
   "source": [
    "## Creating a Table from your Data\n",
    "<HTML>\n",
    "    <br>\n",
    "As covered in <a href=\"./1%20-%20Import%20UDF%20Simple%20Parser.ipynb\" target=\"_self\">Import UDF Simple Parser</a>, use your UDF to create a Xcalar table from the SQLite source.\n",
    "<br>\n",
    "</HTML>\n"
   ]
  },
  {
   "cell_type": "markdown",
   "metadata": {},
   "source": [
    "1. Click the Datasets icon in the XD menu.\n",
    "2. In the <b>Import Data Source</b> form select 'Default Shared Root' for <b>Data Target</b> and '/tmp/sqlite.config' for <b>Data Source Path</b>.\n",
    "3. Click <b>NEXT</b>.\n",
    "4. In the next page, change the <b>Format</b> to 'Custom Format', this will change the other fields allowing you to select a UDF.\n",
    "5. Select the Module you created, and 'sqlite3_import_udf' in <b>Function</b>.\n",
    "6. Click <b>CREATE DATASET</b>.\n",
    "7. The next page will show a preview of your table, slect all columns and click <b>CREATE TABLE</b>."
   ]
  },
  {
   "cell_type": "markdown",
   "metadata": {},
   "source": [
    "<html>\n",
    " Next: <a href=\"./4%20-%20Map%20UDF%20Example.ipynb\" target=\"_self\">4 - Map UDF Example</a><br>\n",
    " Back to <a href=\"./0%20-%20Introduction.ipynb\" target=\"_self\">Introduction</a><br>\n",
    "</html>"
   ]
  }
 ],
 "metadata": {
  "kernelspec": {
   "display_name": "Python 3",
   "language": "python",
   "name": "python3"
  },
  "language_info": {
   "codemirror_mode": {
    "name": "ipython",
    "version": 3
   },
   "file_extension": ".py",
   "mimetype": "text/x-python",
   "name": "python",
   "nbconvert_exporter": "python",
   "pygments_lexer": "ipython3",
   "version": "3.6.4"
  }
 },
 "nbformat": 4,
 "nbformat_minor": 2
}
