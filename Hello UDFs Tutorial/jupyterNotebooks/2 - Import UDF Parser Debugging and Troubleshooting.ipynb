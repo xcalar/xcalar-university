{
 "cells": [
  {
   "cell_type": "markdown",
   "metadata": {},
   "source": [
    "## Import UDF: Simple Parser with Troubleshooting and Debugging\n",
    "\n",
    "<HTML>\n",
    "    <br>\n",
    "In the previous example, <a href=\"./1%20-%20Import%20UDF%20Simple%20Parser.ipynb\" target=\"_self\">Import UDF Simple Parser</a>, you generated random stock data and imported it to Xcalar using a simple Parser UDF. In this Jupyter Notebook you will introduce errors into the same data to demonstrate techniques to log and debug these errors in order to troubleshoot when they occur during run-time (note that the Xcalar Jupyter template described in\n",
    "<a href=\"#test_and_upload\">Testing & Uploading UDF to Workbook</a> section provides a convenient tooling to debug your UDFs as you design them). \n",
    "\n",
    "The following code will randomly generate non-numeric ask and bid values, which we will handle by import UDF later in the Jupyter Notebook. Highlight the cell and click <b>Run</b>.\n",
    "</HTML>"
   ]
  },
  {
   "cell_type": "code",
   "execution_count": 34,
   "metadata": {},
   "outputs": [
    {
     "name": "stdout",
     "output_type": "stream",
     "text": [
      "Created /tmp/stocks_bad.csv file: 4934574 bytes\n"
     ]
    }
   ],
   "source": [
    "import random\n",
    "from datetime import datetime, timedelta\n",
    "\n",
    "def genRandomMarketData(fileDesc, dayCount):\n",
    "    headers =\"Security,date,Bid,Ask,Bid size,Ask size,Last Sale,Last size,Volume\"\n",
    "    #fake stock names\n",
    "    securities = [\"GGX\" ,\"ABC\" , \"ZZM\" , \"XEW\" , \"FFG\" ,\"UYT\",\"RTF\"]\n",
    "    file.write(headers + \"\\n\")\n",
    "    for rec in range (1, dayCount +1):\n",
    "        date = datetime.today() - timedelta(days=rec)\n",
    "        for security in securities:\n",
    "            badDataProb = random.randint(1,50)\n",
    "            # bids with ask = 0 will be later tracked in Map UDF example\n",
    "            # although it is a bad data, we want to analyze these records and their source latter\n",
    "            ask = random.randint(-1,200)         \n",
    "            bid = ask + random.uniform(1,3)\n",
    "            bidSize = random.randint(400,1500)\n",
    "            askSize = random.randint(400,1500)\n",
    "            lastSale = bid + random.uniform(-1,+1)\n",
    "            lastSize = random.randint(400,1500)\n",
    "            volume = random.randint(5000,15000)\n",
    "            if badDataProb < 20:  # generate bad data once in 50 records\n",
    "                ask = \"abc\" \n",
    "                bid= \"doRayMe\" \n",
    "            record =  security + \",\" + date.strftime('%m.%d.%Y') + \",\" + str(ask) + \",\" + str(bid) + \",\" + str(bidSize)\n",
    "            record = record +  \",\" + str(askSize) + \",\" + str(lastSale) + \",\" + str(lastSize) + \",\" + str(volume)  \n",
    "            file.write(record + \"\\n\")\n",
    "\n",
    "# write the file\n",
    "file_path = \"/tmp/stocks_bad.csv\"\n",
    "with open(file_path, \"w\") as file: \n",
    "    genRandomMarketData(file,10000)\n",
    "\n",
    "# test the file was created\n",
    "import os\n",
    "print(\"Created {} file: {} bytes\".format(file_path, os.stat(file_path).st_size))"
   ]
  },
  {
   "cell_type": "markdown",
   "metadata": {},
   "source": [
    "\n",
    "## Catching Invalid Data\n",
    "\n",
    "The code above creates some non-numeric values randomly that could break data processing if not properly handled. In this example, we will show how you can write your Import UDF to catch these data violations and logs them to analyze later.\n",
    "\n",
    "Let's modify the Import UDF parser created in the previous Jupyter Notebook to log erroneous records that contain strings where floats are expected. The code within the function explicitly converts columns values to float, and that would break on non-numeric values if not handled. An invalid record would throw an exception and none of the source records will be loaded. \n",
    "\n",
    "The code below will catch these (and any other) exceptions and continue, inserting erroneous records into the Xcalar table as clearly marked errors. \n"
   ]
  },
  {
   "cell_type": "code",
   "execution_count": 17,
   "metadata": {},
   "outputs": [],
   "source": [
    "# Following function yields the bad records\n",
    "\n",
    "def parse_stocks_file(inFile, inStream):\n",
    "    import codecs \n",
    "    firstRow = True\n",
    "    Utf8Reader = codecs.getreader(\"utf-8\") #  Xcalar opens and streams files in binary mode,\n",
    "    utf8Stream = Utf8Reader(inStream)      #  We need a codec to convert it to UTF-8\n",
    "    for line in utf8Stream:                                  \n",
    "        fields = line.split(\",\")                           # split comma separated fields\n",
    "        if firstRow:                                       # skip first row (headers)\n",
    "            headers = fields                              \n",
    "            firstRow = False\n",
    "            continue\n",
    "        record = {}                                                       \n",
    "        try:\n",
    "            record[\"security\"] = fields[0]                                      # Asked Price \n",
    "            record[\"Date\"] = fields[1]                                        # Date\n",
    "            record[\"Ask\"] = float(fields[3])                                  # Asked Price\n",
    "            record[\"Bid\"] = float(fields[2])                                  # Bid Price\n",
    "            record[\"Avg\"] = (float(fields[2]) + float(fields[3])) / 2.0       # New Field , (Ask + Bid) / 2.0\n",
    "            record[\"Sale\"] = float(fields[6])                                 # Handshake price\n",
    "            record[\"Volume\"] = float(fields [8])                              # Number of stocks\n",
    "            record[\"Total\"] = float(fields[8]) * float (fields[6])            # New Field , Total Price \n",
    "            yield (record)\n",
    "        except Exception as e:\n",
    "            yield {\"Bad Record\":line, \"Exception\": str(e)}\n"
   ]
  },
  {
   "cell_type": "markdown",
   "metadata": {},
   "source": [
    "### Testing your parser function\n",
    "\n",
    "One way to test your parser is by using the code block below that iterates over several records as they are inserted into the target Xcalar table. \n",
    "\n",
    "Note that a beter way to test your parser is provided by the Xalar Template discussed in the <a name=\"test_and_upload\">Testing & Uploading UDF to Workbook</a> section later in this tutorial."
   ]
  },
  {
   "cell_type": "code",
   "execution_count": 19,
   "metadata": {},
   "outputs": [
    {
     "name": "stdout",
     "output_type": "stream",
     "text": [
      "{'Bad Record': 'GGX,05.23.2018,abc,doRayMe,883,734,143.06817083846994,1084,11266\\n', 'Exception': \"could not convert string to float: 'doRayMe'\"}\n",
      "{'Bad Record': 'ABC,05.23.2018,abc,doRayMe,1030,787,14.206858342432081,1350,14262\\n', 'Exception': \"could not convert string to float: 'doRayMe'\"}\n",
      "{'Bad Record': 'ZZM,05.23.2018,abc,doRayMe,1364,1212,72.97317426906935,1400,7619\\n', 'Exception': \"could not convert string to float: 'doRayMe'\"}\n",
      "{'security': 'XEW', 'Date': '05.23.2018', 'Ask': 163.87247521450925, 'Bid': 162.0, 'Avg': 162.9362376072546, 'Sale': 163.49517836154794, 'Volume': 8983.0, 'Total': 1468677.187221785}\n",
      "{'security': 'FFG', 'Date': '05.23.2018', 'Ask': 163.82133369399244, 'Bid': 161.0, 'Avg': 162.4106668469962, 'Sale': 164.70378387106237, 'Volume': 10743.0, 'Total': 1769412.750126823}\n",
      "{'Bad Record': 'UYT,05.23.2018,abc,doRayMe,1162,425,102.32482347654988,1308,13168\\n', 'Exception': \"could not convert string to float: 'doRayMe'\"}\n",
      "{'security': 'RTF', 'Date': '05.23.2018', 'Ask': 111.04475269978785, 'Bid': 109.0, 'Avg': 110.02237634989393, 'Sale': 110.12185953363706, 'Volume': 10224.0, 'Total': 1125885.8918719054}\n",
      "{'Bad Record': 'GGX,05.22.2018,abc,doRayMe,1046,798,165.00782633627546,616,9179\\n', 'Exception': \"could not convert string to float: 'doRayMe'\"}\n",
      "{'security': 'ABC', 'Date': '05.22.2018', 'Ask': 42.26659033637039, 'Bid': 41.0, 'Avg': 41.6332951681852, 'Sale': 41.303705281034524, 'Volume': 7988.0, 'Total': 329933.9977849038}\n",
      "{'security': 'ZZM', 'Date': '05.22.2018', 'Ask': 12.835651614202146, 'Bid': 11.0, 'Avg': 11.917825807101073, 'Sale': 12.396695240093885, 'Volume': 6441.0, 'Total': 79847.11404144471}\n"
     ]
    }
   ],
   "source": [
    "import itertools\n",
    "\n",
    "with open(\"/tmp/stocks_bad.csv\",\"rb\") as file: \n",
    "    data = parse_stocks_file(\"inFile\", file)\n",
    "    for record in itertools.islice(data, 10):\n",
    "        print(record)"
   ]
  },
  {
   "cell_type": "markdown",
   "metadata": {},
   "source": [
    "### Logging Errors\n",
    "\n",
    "Additionally, you may choose to log errors using Xcalar Python logging mechanism. \n",
    "\n",
    "<b>Note</b>: All outputs from this function are redirected to a Xcalar log file called xpu.out for later analysis. You can analyze this log after the import operation in order to troubleshoot potential problems."
   ]
  },
  {
   "cell_type": "code",
   "execution_count": 2,
   "metadata": {},
   "outputs": [],
   "source": [
    "# Following function logs and yields the bad records\n",
    "\n",
    "def parse_and_log(inFile, inStream):\n",
    "    import logging                                  # importing logging module \n",
    "    import datetime                                 # to get current date-time for our error logs\n",
    "    import codecs \n",
    "    logging.basicConfig(level=logging.INFO)         # setting logging \n",
    "    firstRow = True\n",
    "    Utf8Reader = codecs.getreader(\"utf-8\")          #  Xcalar opens and streams files in binary mode,\n",
    "    utf8Stream = Utf8Reader(inStream)               #  We need a codec to convert it to UTF-8\n",
    "    for line in utf8Stream:                                  \n",
    "        fields = line.split(\",\")                    # split comma separated fields\n",
    "        if firstRow:                                # skip first row (headers)\n",
    "            headers = fields                              \n",
    "            firstRow = False\n",
    "            continue\n",
    "        try:\n",
    "            record = {}                                                       # record dictionary\n",
    "            record[\"security\"] = fields[0]                                      # Asked Price \n",
    "            record[\"Date\"] = fields[1]                                        # Date\n",
    "            record[\"Ask\"] = float(fields[3])                                  # Asked Price\n",
    "            record[\"Bid\"] = float(fields[2])                                  # Bid Price\n",
    "            record[\"Avg\"] = (float(fields[2]) + float(fields[3])) / 2.0       # New Field , (Ask + Bid) / 2.0\n",
    "            record[\"Sale\"] = float(fields[6])                                 # Handshake price\n",
    "            record[\"Volume\"] = float(fields [8])                              # Number of stocks\n",
    "            record[\"Total\"] = float(fields[8]) * float (fields[6])            # New Field , Total Price \n",
    "            yield (record);\n",
    "        except Exception as e:\n",
    "            #add error logging. These logs will appear in file xpu.out\n",
    "            log_dict = {}\n",
    "            log_dict [\"Time Stamp\"] = datetime.datetime.utcnow().strftime(\"%I:%M%p on %B %d, %Y\")\n",
    "            log_dict [\"Source UDF\"] = \"parse_stocks_file\"\n",
    "            log_dict [\"Description\"] = \"Parser Error \" + str(e)\n",
    "            log_dict [\"File\"] = inFile\n",
    "            logging.error(log_dict)\n",
    "            yield {\"Bad Record\":line, \"Exception\": str(e)}\n"
   ]
  },
  {
   "cell_type": "markdown",
   "metadata": {},
   "source": [
    "<HTML>\n",
    "<br>\n",
    "<div style=\"background-color : blue; color : white\n",
    "    width: 284px;\n",
    "    padding: 20px 20px 20px 100px;\n",
    "    border: 1px solid #BFBFBF;\n",
    "    background-color: white;box-shadow: 0px 0px 0px 0px #aaaaaa; position: relative;\"><font style=\"font-size:20px\">\n",
    "Debugging Best Practices</font>\n",
    "    <br><b>Note</b>: In some cases you may prefer to filter out erroneous records during import, but the best practice is to bring every record to Xcalar and tag data quality issues and other errors so that they can be filtered and collected into an erroneous rows table for further analysis.\n",
    "    <img src=\"xi-questionmark_yellow.png\" \n",
    "         style=\"position: absolute;top: 5px;left: 30px;width:40px ;height:40px\" />\n",
    "</div>\n",
    "</HTML>"
   ]
  },
  {
   "cell_type": "markdown",
   "metadata": {},
   "source": [
    "## Adding this UDF to Xcalar\n",
    "<HTML>\n",
    "    <br>\n",
    "Adding a UDF to Xcalar has already been covered in <a href=\"./1%20-%20Import%20UDF%20Simple%20Parser.ipynb\" target=\"_self\">Import UDF Simple Parser</a>. As a reminder, the steps you need to take are:\n",
    "    <br>\n",
    "</HTML>"
   ]
  },
  {
   "cell_type": "markdown",
   "metadata": {},
   "source": [
    "1.   Click the <b>CODE SNIPPETS</b> dropdown menu in the top right corner of Jupyter.\n",
    "2.   Select <b>Connect to Xcalar workbook</b>.\n",
    "3.   Run the code cell containing the generated code to connect Jupyter to you current workbook."
   ]
  },
  {
   "cell_type": "code",
   "execution_count": 3,
   "metadata": {},
   "outputs": [],
   "source": [
    "# Xcalar Notebook Connector\n",
    "# \n",
    "# Connects this Jupyter Notebook to the Xcalar Workbook <TutorialNotebooks5-14-18>\n",
    "#\n",
    "# To use any data from your Xcalar Workbook, run this snippet before other \n",
    "# Xcalar Snippets in your workbook. \n",
    "# \n",
    "# A best practice is not to edit this cell.\n",
    "#\n",
    "# If you wish to use this Jupyter Notebook with a different Xcalar Workbook \n",
    "# delete this cell and click CODE SNIPPETS --> Connect to Xcalar Workbook.\n",
    "\n",
    "%matplotlib inline\n",
    "\n",
    "# Importing third-party modules to faciliate data work. \n",
    "import pandas as pd\n",
    "import matplotlib.pyplot as plt\n",
    "\n",
    "# Importing Xcalar packages and modules. \n",
    "# For more information, search and post questions on discourse.xcalar.com\n",
    "from xcalar.compute.api.XcalarApi import XcalarApi\n",
    "from xcalar.compute.api.Session import Session\n",
    "from xcalar.compute.api.WorkItem import WorkItem\n",
    "from xcalar.compute.api.ResultSet import ResultSet\n",
    "\n",
    "# Create a XcalarApi object\n",
    "xcalarApi = XcalarApi()\n",
    "# Connect to current workbook that you are in\n",
    "workbook = Session(xcalarApi, \"xdpadmin\", \"xdpadmin\", 4399150, True, \"TutorialNotebooks-HelloUDF-Full\")\n",
    "xcalarApi.setSession(workbook)"
   ]
  },
  {
   "cell_type": "markdown",
   "metadata": {},
   "source": [
    "### Using UDF Tempate\n",
    "\n",
    "4.   Again, click the <b>CODE SNIPPETS</b> dropdown.\n",
    "5.   This time select <b>Create Import UDF</b>.\n",
    "\n",
    "A form will pop up with the following fields:\n",
    "\n",
    "*   <b>Data Target</b>: Select 'Default Share Root'\n",
    "*   <b>Data source Path</b>: Type the path to the file you created earlier '/tmp/stocks_bad.csv'.\n",
    "*   <b>Module Name</b>: Choose a name for your UDF group, e.g. 'log_stocks'.\n",
    "*   <b>Function Name</b>: Enter the name of your parser function, 'parse_and_log'.\n",
    "\n",
    "Once you enter these settings click the <b>CONFIRM</b> button."
   ]
  },
  {
   "cell_type": "markdown",
   "metadata": {},
   "source": [
    "### Testing & Uploading UDF to Workbook\n",
    "<a name=\"test_and_upload\"></a>\n",
    "\n",
    "You will see a new code cell added to your Jupyter Notebook. Below you will find these steps already implemented. The code below does the following:\n",
    "- Declares UDF function (parse_and_log).\n",
    "- Provides a function to upload UDF to Xcalar (uploadUDF).\n",
    "- Test the UDF once it has been uploaded (testImportUDF) \n",
    "\n",
    "Locate the function 'parse_and_log' and replace it with our version of that function. Highlight the cell and click Run. \n",
    "\n",
    "You will see sample lines generated in a table under the code cell. Note that this is an alternative way to test your UDF. It is prefered because it tests the actual uploaded UDF function. Also, it is generated for you automatically when adding the code snippet.\n"
   ]
  },
  {
   "cell_type": "code",
   "execution_count": 4,
   "metadata": {},
   "outputs": [
    {
     "name": "stdout",
     "output_type": "stream",
     "text": [
      "The following should look like a proper table with headings.\n"
     ]
    },
    {
     "data": {
      "text/html": [
       "<table><tr><th>security</th><th>Date</th><th>Ask</th><th>Bid</th><th>Avg</th><th>Sale</th><th>Volume</th><th>Total</th><th>Bad Record</th><th>Exception</th></tr><tr><td>GGX</td><td>05.20.2018</td><td>69.61643997435232</td><td>67.0</td><td>68.30821998717616</td><td>69.20759126547209</td><td>11242.0</td><td>778031.7410064372</td><td></td><td></td></tr><tr><td></td><td></td><td></td><td></td><td></td><td></td><td></td><td></td><td>ABC,05.20.2018,abc,doRayMe,544,1091,2.443585987169952,877,13719\n",
       "</td><td>could not convert string to float: 'doRayMe'</td></tr><tr><td>ZZM</td><td>05.20.2018</td><td>7.411274958262378</td><td>6.0</td><td>6.705637479131189</td><td>6.873990656526375</td><td>10807.0</td><td>74287.21702508054</td><td></td><td></td></tr><tr><td>XEW</td><td>05.20.2018</td><td>202.54357063085752</td><td>200.0</td><td>201.27178531542876</td><td>203.02589577089168</td><td>5246.0</td><td>1065073.8492140977</td><td></td><td></td></tr><tr><td>FFG</td><td>05.20.2018</td><td>199.9157254985934</td><td>198.0</td><td>198.95786274929668</td><td>200.34635720766207</td><td>14878.0</td><td>2980753.102535596</td><td></td><td></td></tr><tr><td></td><td></td><td></td><td></td><td></td><td></td><td></td><td></td><td>UYT,05.20.2018,abc,doRayMe,546,1251,92.74649743358962,954,7916\n",
       "</td><td>could not convert string to float: 'doRayMe'</td></tr><tr><td>RTF</td><td>05.20.2018</td><td>79.60955409712923</td><td>78.0</td><td>78.80477704856462</td><td>78.63145269041719</td><td>8507.0</td><td>668917.768037379</td><td></td><td></td></tr><tr><td>GGX</td><td>05.19.2018</td><td>119.80744868058503</td><td>118.0</td><td>118.90372434029251</td><td>119.68703128300128</td><td>7769.0</td><td>929848.5460376369</td><td></td><td></td></tr><tr><td>ABC</td><td>05.19.2018</td><td>134.8556076209867</td><td>132.0</td><td>133.42780381049334</td><td>134.0314289887087</td><td>7722.0</td><td>1034990.6946508087</td><td></td><td></td></tr><tr><td>ZZM</td><td>05.19.2018</td><td>43.128953378525665</td><td>42.0</td><td>42.56447668926283</td><td>43.11669527286721</td><td>6487.0</td><td>279698.0022350896</td><td></td><td></td></tr><tr><td></td><td></td><td></td><td></td><td></td><td></td><td></td><td></td><td>XEW,05.19.2018,abc,doRayMe,720,726,86.87829810762253,1069,14069\n",
       "</td><td>could not convert string to float: 'doRayMe'</td></tr><tr><td>FFG</td><td>05.19.2018</td><td>135.39182848750002</td><td>134.0</td><td>134.69591424375</td><td>135.68603202703608</td><td>7960.0</td><td>1080060.8149352071</td><td></td><td></td></tr><tr><td></td><td></td><td></td><td></td><td></td><td></td><td></td><td></td><td>UYT,05.19.2018,abc,doRayMe,1205,1258,149.76211876917358,471,11939\n",
       "</td><td>could not convert string to float: 'doRayMe'</td></tr><tr><td>RTF</td><td>05.19.2018</td><td>158.64631201421602</td><td>157.0</td><td>157.82315600710803</td><td>159.4361152161445</td><td>5828.0</td><td>929193.67947969</td><td></td><td></td></tr><tr><td></td><td></td><td></td><td></td><td></td><td></td><td></td><td></td><td>GGX,05.18.2018,abc,doRayMe,541,798,118.12435455759359,1292,11122\n",
       "</td><td>could not convert string to float: 'doRayMe'</td></tr><tr><td>ABC</td><td>05.18.2018</td><td>200.72359625002747</td><td>198.0</td><td>199.36179812501373</td><td>200.79179157061876</td><td>6410.0</td><td>1287075.3839676662</td><td></td><td></td></tr><tr><td>ZZM</td><td>05.18.2018</td><td>98.29062088631234</td><td>97.0</td><td>97.64531044315618</td><td>98.26962455104862</td><td>11906.0</td><td>1169998.149904785</td><td></td><td></td></tr><tr><td></td><td></td><td></td><td></td><td></td><td></td><td></td><td></td><td>XEW,05.18.2018,abc,doRayMe,423,494,7.562003200734613,1423,9491\n",
       "</td><td>could not convert string to float: 'doRayMe'</td></tr><tr><td>FFG</td><td>05.18.2018</td><td>125.08837803321407</td><td>123.0</td><td>124.04418901660704</td><td>124.91062726512793</td><td>13830.0</td><td>1727513.9750767192</td><td></td><td></td></tr><tr><td></td><td></td><td></td><td></td><td></td><td></td><td></td><td></td><td>UYT,05.18.2018,abc,doRayMe,788,460,10.304377607483737,1034,9949\n",
       "</td><td>could not convert string to float: 'doRayMe'</td></tr><tr><td></td><td></td><td></td><td></td><td></td><td></td><td></td><td></td><td>RTF,05.18.2018,abc,doRayMe,718,1103,171.68679297042664,799,13654\n",
       "</td><td>could not convert string to float: 'doRayMe'</td></tr><tr><td>GGX</td><td>05.17.2018</td><td>132.15131457647945</td><td>130.0</td><td>131.0756572882397</td><td>132.484911187595</td><td>6014.0</td><td>796764.2558821964</td><td></td><td></td></tr><tr><td></td><td></td><td></td><td></td><td></td><td></td><td></td><td></td><td>ABC,05.17.2018,abc,doRayMe,897,517,57.307657829515634,1375,12205\n",
       "</td><td>could not convert string to float: 'doRayMe'</td></tr><tr><td></td><td></td><td></td><td></td><td></td><td></td><td></td><td></td><td>ZZM,05.17.2018,abc,doRayMe,1034,573,41.67395818530026,525,5200\n",
       "</td><td>could not convert string to float: 'doRayMe'</td></tr><tr><td>XEW</td><td>05.17.2018</td><td>13.490665398878239</td><td>11.0</td><td>12.24533269943912</td><td>12.623292072302382</td><td>11124.0</td><td>140421.5010122917</td><td></td><td></td></tr><tr><td>FFG</td><td>05.17.2018</td><td>12.06146764960696</td><td>10.0</td><td>11.03073382480348</td><td>11.89465028882502</td><td>6547.0</td><td>77874.2754409374</td><td></td><td></td></tr><tr><td></td><td></td><td></td><td></td><td></td><td></td><td></td><td></td><td>UYT,05.17.2018,abc,doRayMe,1135,984,0.16636085526407607,1034,6397\n",
       "</td><td>could not convert string to float: 'doRayMe'</td></tr><tr><td>RTF</td><td>05.17.2018</td><td>2.5898119709935887</td><td>1.0</td><td>1.7949059854967944</td><td>3.3062714548277747</td><td>13309.0</td><td>44003.16679230285</td><td></td><td></td></tr><tr><td></td><td></td><td></td><td></td><td></td><td></td><td></td><td></td><td>GGX,05.16.2018,abc,doRayMe,1425,530,58.7473852898392,586,11499\n",
       "</td><td>could not convert string to float: 'doRayMe'</td></tr><tr><td></td><td></td><td></td><td></td><td></td><td></td><td></td><td></td><td>ABC,05.16.2018,abc,doRayMe,558,686,64.18077936644626,760,9195\n",
       "</td><td>could not convert string to float: 'doRayMe'</td></tr><tr><td>ZZM</td><td>05.16.2018</td><td>85.26046510819671</td><td>84.0</td><td>84.63023255409836</td><td>86.01824356077668</td><td>6885.0</td><td>592235.6069159474</td><td></td><td></td></tr><tr><td></td><td></td><td></td><td></td><td></td><td></td><td></td><td></td><td>XEW,05.16.2018,abc,doRayMe,935,1022,74.07283201214703,1319,10700\n",
       "</td><td>could not convert string to float: 'doRayMe'</td></tr><tr><td>FFG</td><td>05.16.2018</td><td>182.307744603382</td><td>181.0</td><td>181.653872301691</td><td>182.90237118909656</td><td>8776.0</td><td>1605151.2095555114</td><td></td><td></td></tr><tr><td></td><td></td><td></td><td></td><td></td><td></td><td></td><td></td><td>UYT,05.16.2018,abc,doRayMe,442,531,93.08433921937251,1411,11749\n",
       "</td><td>could not convert string to float: 'doRayMe'</td></tr><tr><td>RTF</td><td>05.16.2018</td><td>1.212959261488259</td><td>0.0</td><td>0.6064796307441295</td><td>2.0488417285678304</td><td>12245.0</td><td>25088.066966313083</td><td></td><td></td></tr><tr><td></td><td></td><td></td><td></td><td></td><td></td><td></td><td></td><td>GGX,05.15.2018,abc,doRayMe,1217,611,200.79695578906544,445,10349\n",
       "</td><td>could not convert string to float: 'doRayMe'</td></tr><tr><td>ABC</td><td>05.15.2018</td><td>123.28269868401517</td><td>121.0</td><td>122.14134934200759</td><td>123.08839519449545</td><td>9041.0</td><td>1112842.1809534333</td><td></td><td></td></tr><tr><td></td><td></td><td></td><td></td><td></td><td></td><td></td><td></td><td>ZZM,05.15.2018,abc,doRayMe,728,998,37.124637077222275,1161,14652\n",
       "</td><td>could not convert string to float: 'doRayMe'</td></tr><tr><td>XEW</td><td>05.15.2018</td><td>107.91692549733125</td><td>105.0</td><td>106.45846274866562</td><td>108.7768249914906</td><td>8288.0</td><td>901542.3255294741</td><td></td><td></td></tr><tr><td></td><td></td><td></td><td></td><td></td><td></td><td></td><td></td><td>FFG,05.15.2018,abc,doRayMe,1318,1226,42.28543920686716,652,10461\n",
       "</td><td>could not convert string to float: 'doRayMe'</td></tr><tr><td></td><td></td><td></td><td></td><td></td><td></td><td></td><td></td><td>UYT,05.15.2018,abc,doRayMe,1237,545,54.35096383403229,1232,5843\n",
       "</td><td>could not convert string to float: 'doRayMe'</td></tr><tr><td></td><td></td><td></td><td></td><td></td><td></td><td></td><td></td><td>RTF,05.15.2018,abc,doRayMe,1311,1144,192.69445764117935,657,5200\n",
       "</td><td>could not convert string to float: 'doRayMe'</td></tr><tr><td></td><td></td><td></td><td></td><td></td><td></td><td></td><td></td><td>GGX,05.14.2018,abc,doRayMe,1253,1010,141.4223577345813,1212,11622\n",
       "</td><td>could not convert string to float: 'doRayMe'</td></tr><tr><td></td><td></td><td></td><td></td><td></td><td></td><td></td><td></td><td>ABC,05.14.2018,abc,doRayMe,900,1042,69.41603642053971,1482,9995\n",
       "</td><td>could not convert string to float: 'doRayMe'</td></tr><tr><td></td><td></td><td></td><td></td><td></td><td></td><td></td><td></td><td>ZZM,05.14.2018,abc,doRayMe,1252,1275,195.24055132998188,1256,14281\n",
       "</td><td>could not convert string to float: 'doRayMe'</td></tr><tr><td>XEW</td><td>05.14.2018</td><td>83.86782391176736</td><td>81.0</td><td>82.43391195588367</td><td>83.13721945306608</td><td>12623.0</td><td>1049441.1211560532</td><td></td><td></td></tr><tr><td></td><td></td><td></td><td></td><td></td><td></td><td></td><td></td><td>FFG,05.14.2018,abc,doRayMe,494,1195,18.429487018039254,792,10623\n",
       "</td><td>could not convert string to float: 'doRayMe'</td></tr><tr><td>UYT</td><td>05.14.2018</td><td>119.27424244988732</td><td>118.0</td><td>118.63712122494366</td><td>118.32767417174293</td><td>7560.0</td><td>894557.2167383765</td><td></td><td></td></tr><tr><td></td><td></td><td></td><td></td><td></td><td></td><td></td><td></td><td>RTF,05.14.2018,abc,doRayMe,1150,1001,171.64344447743622,1413,11139\n",
       "</td><td>could not convert string to float: 'doRayMe'</td></tr><tr><td>GGX</td><td>05.13.2018</td><td>8.02746653725699</td><td>7.0</td><td>7.513733268628495</td><td>8.299519313122417</td><td>5514.0</td><td>45763.54949255701</td><td></td><td></td></tr><tr><td>ABC</td><td>05.13.2018</td><td>193.81657305994293</td><td>191.0</td><td>192.40828652997146</td><td>194.4284734523831</td><td>11256.0</td><td>2188486.897180024</td><td></td><td></td></tr><tr><td>ZZM</td><td>05.13.2018</td><td>197.98083322216127</td><td>195.0</td><td>196.49041661108063</td><td>197.40560894696998</td><td>13497.0</td><td>2664383.503957254</td><td></td><td></td></tr><tr><td>XEW</td><td>05.13.2018</td><td>84.00988673922855</td><td>82.0</td><td>83.00494336961427</td><td>84.74468393384932</td><td>5557.0</td><td>470926.20862040063</td><td></td><td></td></tr><tr><td></td><td></td><td></td><td></td><td></td><td></td><td></td><td></td><td>FFG,05.13.2018,abc,doRayMe,1208,1130,170.18309808398027,982,11470\n",
       "</td><td>could not convert string to float: 'doRayMe'</td></tr><tr><td>UYT</td><td>05.13.2018</td><td>67.6333626048608</td><td>65.0</td><td>66.3166813024304</td><td>68.58227959763009</td><td>14825.0</td><td>1016732.2950348661</td><td></td><td></td></tr><tr><td>RTF</td><td>05.13.2018</td><td>55.244874303891564</td><td>54.0</td><td>54.62243715194578</td><td>55.50698819273775</td><td>10609.0</td><td>588873.6377367548</td><td></td><td></td></tr><tr><td>GGX</td><td>05.12.2018</td><td>134.82042745789565</td><td>133.0</td><td>133.91021372894784</td><td>133.82185993180371</td><td>14298.0</td><td>1913384.9533049294</td><td></td><td></td></tr><tr><td></td><td></td><td></td><td></td><td></td><td></td><td></td><td></td><td>ABC,05.12.2018,abc,doRayMe,868,934,85.09476518007118,793,8440\n",
       "</td><td>could not convert string to float: 'doRayMe'</td></tr><tr><td>ZZM</td><td>05.12.2018</td><td>133.36129390546205</td><td>131.0</td><td>132.18064695273102</td><td>133.8083823195115</td><td>11861.0</td><td>1587101.222691726</td><td></td><td></td></tr><tr><td></td><td></td><td></td><td></td><td></td><td></td><td></td><td></td><td>XEW,05.12.2018,abc,doRayMe,401,671,200.29836974374888,801,5544\n",
       "</td><td>could not convert string to float: 'doRayMe'</td></tr><tr><td></td><td></td><td></td><td></td><td></td><td></td><td></td><td></td><td>FFG,05.12.2018,abc,doRayMe,403,531,176.203341592702,431,7828\n",
       "</td><td>could not convert string to float: 'doRayMe'</td></tr><tr><td>UYT</td><td>05.12.2018</td><td>106.5526877682645</td><td>105.0</td><td>105.77634388413225</td><td>107.12324950314954</td><td>8440.0</td><td>904120.2258065821</td><td></td><td></td></tr><tr><td>RTF</td><td>05.12.2018</td><td>121.82364010914895</td><td>119.0</td><td>120.41182005457448</td><td>121.38850656224064</td><td>10172.0</td><td>1234763.8887511117</td><td></td><td></td></tr><tr><td>GGX</td><td>05.11.2018</td><td>62.192124144506664</td><td>61.0</td><td>61.59606207225333</td><td>62.0054608210147</td><td>8179.0</td><td>507142.6640550792</td><td></td><td></td></tr><tr><td>ABC</td><td>05.11.2018</td><td>43.72805248895034</td><td>41.0</td><td>42.36402624447517</td><td>43.48689620939895</td><td>9273.0</td><td>403253.98854975647</td><td></td><td></td></tr><tr><td></td><td></td><td></td><td></td><td></td><td></td><td></td><td></td><td>ZZM,05.11.2018,abc,doRayMe,744,960,200.1025189712494,980,8570\n",
       "</td><td>could not convert string to float: 'doRayMe'</td></tr><tr><td>XEW</td><td>05.11.2018</td><td>101.5248597685336</td><td>99.0</td><td>100.2624298842668</td><td>100.81489078271652</td><td>13620.0</td><td>1373098.812460599</td><td></td><td></td></tr><tr><td></td><td></td><td></td><td></td><td></td><td></td><td></td><td></td><td>FFG,05.11.2018,abc,doRayMe,513,1324,163.38152441143228,1287,13531\n",
       "</td><td>could not convert string to float: 'doRayMe'</td></tr><tr><td></td><td></td><td></td><td></td><td></td><td></td><td></td><td></td><td>UYT,05.11.2018,abc,doRayMe,593,539,143.409372093287,919,11724\n",
       "</td><td>could not convert string to float: 'doRayMe'</td></tr><tr><td>RTF</td><td>05.11.2018</td><td>104.02469053649887</td><td>103.0</td><td>103.51234526824943</td><td>104.94819752471574</td><td>6599.0</td><td>692553.1554655991</td><td></td><td></td></tr><tr><td>GGX</td><td>05.10.2018</td><td>60.177620865045746</td><td>59.0</td><td>59.58881043252288</td><td>60.923055300761966</td><td>9964.0</td><td>607037.3230167922</td><td></td><td></td></tr><tr><td></td><td></td><td></td><td></td><td></td><td></td><td></td><td></td><td>ABC,05.10.2018,abc,doRayMe,1251,1367,178.62920411129087,957,11961\n",
       "</td><td>could not convert string to float: 'doRayMe'</td></tr><tr><td>ZZM</td><td>05.10.2018</td><td>133.9756209531641</td><td>132.0</td><td>132.98781047658207</td><td>134.89731333611883</td><td>8024.0</td><td>1082416.0422090176</td><td></td><td></td></tr><tr><td></td><td></td><td></td><td></td><td></td><td></td><td></td><td></td><td>XEW,05.10.2018,abc,doRayMe,1336,1476,127.78309294530476,1379,6046\n",
       "</td><td>could not convert string to float: 'doRayMe'</td></tr><tr><td>FFG</td><td>05.10.2018</td><td>89.13086453040465</td><td>87.0</td><td>88.06543226520233</td><td>88.77156768580537</td><td>14201.0</td><td>1260645.032706122</td><td></td><td></td></tr><tr><td>UYT</td><td>05.10.2018</td><td>77.9917934529093</td><td>76.0</td><td>76.99589672645465</td><td>78.25512050434837</td><td>6780.0</td><td>530569.7170194819</td><td></td><td></td></tr><tr><td></td><td></td><td></td><td></td><td></td><td></td><td></td><td></td><td>RTF,05.10.2018,abc,doRayMe,431,966,82.37486531483538,941,6657\n",
       "</td><td>could not convert string to float: 'doRayMe'</td></tr><tr><td>GGX</td><td>05.09.2018</td><td>126.52698138035588</td><td>125.0</td><td>125.76349069017795</td><td>126.03529407356899</td><td>9838.0</td><td>1239935.2230957716</td><td></td><td></td></tr><tr><td>ABC</td><td>05.09.2018</td><td>141.28198463863868</td><td>139.0</td><td>140.14099231931934</td><td>141.6375379963575</td><td>14484.0</td><td>2051478.1003392423</td><td></td><td></td></tr><tr><td></td><td></td><td></td><td></td><td></td><td></td><td></td><td></td><td>ZZM,05.09.2018,abc,doRayMe,461,1178,56.98957283790128,1225,14685\n",
       "</td><td>could not convert string to float: 'doRayMe'</td></tr><tr><td></td><td></td><td></td><td></td><td></td><td></td><td></td><td></td><td>XEW,05.09.2018,abc,doRayMe,967,1284,157.3060532380974,1270,5824\n",
       "</td><td>could not convert string to float: 'doRayMe'</td></tr><tr><td></td><td></td><td></td><td></td><td></td><td></td><td></td><td></td><td>FFG,05.09.2018,abc,doRayMe,1303,429,146.4030738508028,758,8504\n",
       "</td><td>could not convert string to float: 'doRayMe'</td></tr><tr><td>UYT</td><td>05.09.2018</td><td>134.6302260426978</td><td>132.0</td><td>133.3151130213489</td><td>134.93750918859413</td><td>12829.0</td><td>1731113.305380474</td><td></td><td></td></tr><tr><td>RTF</td><td>05.09.2018</td><td>42.882454199497104</td><td>40.0</td><td>41.44122709974855</td><td>42.553821384915196</td><td>14177.0</td><td>603285.5257739427</td><td></td><td></td></tr><tr><td>GGX</td><td>05.08.2018</td><td>89.85187161639797</td><td>87.0</td><td>88.42593580819899</td><td>90.02627837546127</td><td>6833.0</td><td>615149.5601395268</td><td></td><td></td></tr><tr><td></td><td></td><td></td><td></td><td></td><td></td><td></td><td></td><td>ABC,05.08.2018,abc,doRayMe,1377,1256,84.0226683058546,1461,10834\n",
       "</td><td>could not convert string to float: 'doRayMe'</td></tr><tr><td></td><td></td><td></td><td></td><td></td><td></td><td></td><td></td><td>ZZM,05.08.2018,abc,doRayMe,913,799,156.26292741172335,778,11229\n",
       "</td><td>could not convert string to float: 'doRayMe'</td></tr><tr><td></td><td></td><td></td><td></td><td></td><td></td><td></td><td></td><td>XEW,05.08.2018,abc,doRayMe,506,1290,91.82687961461438,423,8824\n",
       "</td><td>could not convert string to float: 'doRayMe'</td></tr><tr><td></td><td></td><td></td><td></td><td></td><td></td><td></td><td></td><td>FFG,05.08.2018,abc,doRayMe,1017,651,122.69480486878733,667,5908\n",
       "</td><td>could not convert string to float: 'doRayMe'</td></tr><tr><td></td><td></td><td></td><td></td><td></td><td></td><td></td><td></td><td>UYT,05.08.2018,abc,doRayMe,426,446,7.051066527546541,1436,6772\n",
       "</td><td>could not convert string to float: 'doRayMe'</td></tr><tr><td>RTF</td><td>05.08.2018</td><td>182.03586191233933</td><td>180.0</td><td>181.01793095616966</td><td>182.7998201640259</td><td>12718.0</td><td>2324848.1128460816</td><td></td><td></td></tr><tr><td></td><td></td><td></td><td></td><td></td><td></td><td></td><td></td><td>GGX,05.07.2018,abc,doRayMe,580,617,26.11288682609797,1031,5316\n",
       "</td><td>could not convert string to float: 'doRayMe'</td></tr><tr><td>ABC</td><td>05.07.2018</td><td>192.42396957598618</td><td>191.0</td><td>191.7119847879931</td><td>192.71706939757857</td><td>5426.0</td><td>1045682.8185512613</td><td></td><td></td></tr><tr><td>ZZM</td><td>05.07.2018</td><td>152.8323427977409</td><td>150.0</td><td>151.41617139887046</td><td>152.53339935659616</td><td>9369.0</td><td>1429085.4185719495</td><td></td><td></td></tr><tr><td>XEW</td><td>05.07.2018</td><td>194.93765232440268</td><td>193.0</td><td>193.96882616220134</td><td>194.89541172757595</td><td>13861.0</td><td>2701445.3019559304</td><td></td><td></td></tr><tr><td>FFG</td><td>05.07.2018</td><td>39.858439497386655</td><td>37.0</td><td>38.42921974869333</td><td>40.15507024870259</td><td>7089.0</td><td>284659.2929930527</td><td></td><td></td></tr><tr><td>UYT</td><td>05.07.2018</td><td>117.65417988392616</td><td>115.0</td><td>116.32708994196308</td><td>118.32163304070085</td><td>8149.0</td><td>964202.9876486711</td><td></td><td></td></tr><tr><td></td><td></td><td></td><td></td><td></td><td></td><td></td><td></td><td>RTF,05.07.2018,abc,doRayMe,1423,1318,143.3169856072654,1122,9032\n",
       "</td><td>could not convert string to float: 'doRayMe'</td></tr><tr><td></td><td></td><td></td><td></td><td></td><td></td><td></td><td></td><td>GGX,05.06.2018,abc,doRayMe,1181,1311,15.618566543489958,1203,8138\n",
       "</td><td>could not convert string to float: 'doRayMe'</td></tr><tr><td>ABC</td><td>05.06.2018</td><td>187.90520493115497</td><td>186.0</td><td>186.95260246557748</td><td>188.57878772966157</td><td>11973.0</td><td>2257853.825487238</td><td></td><td></td></tr></table>"
      ],
      "text/plain": [
       "<IPython.core.display.HTML object>"
      ]
     },
     "metadata": {},
     "output_type": "display_data"
    },
    {
     "name": "stdout",
     "output_type": "stream",
     "text": [
      "End of UDF\n"
     ]
    }
   ],
   "source": [
    "# Xcalar Import UDF Template\n",
    "#\n",
    "# This is a function definition for a Python UDF to import external data source\n",
    "# file <Default Shared Root:/tmp/bad_stocks.csv>\n",
    "#\n",
    "# Module name: <log_stocks>\n",
    "# Function name: <parse_and_log>\n",
    "#\n",
    "# REQUIREMENTS: Import UDF functions take two arguments...\n",
    "#   fullPath: The file path to the data source file being imported.\n",
    "#   inStream: A binary stream of the data source file.\n",
    "#\n",
    "#   Your Import UDF function must be a generator, a Python function which\n",
    "#   processes and returns a stream of data.\n",
    "#\n",
    "# To create an import UDF, modify the function definition immediately below this\n",
    "# comment, as necessary.\n",
    "#\n",
    "# To test your UDF, run this cell. (Hit <control> + <enter>.)\n",
    "#\n",
    "# To apply it to your dataset, click the \"Apply UDF on Dataset Panel\" button.\n",
    "#\n",
    "#\n",
    "# NOTE: Use discipline before replacing this module. Consider whether the import of older\n",
    "# data source files using this UDF will be affected by this change. If so, versioning this\n",
    "# module may be appropriate.\n",
    "#\n",
    "# Best practice is to name helper functions by starting with __. Such\n",
    "# functions will be considered private functions and will not be directly\n",
    "# invokable from Xcalar tools.\n",
    "\n",
    "# Function definition for your Import UDF.\n",
    "def parse_and_log(inFile, inStream):\n",
    "    import logging                                  # importing logging module \n",
    "    import datetime                                 # to get current date-time for our error logs\n",
    "    import codecs \n",
    "    logging.basicConfig(level=logging.INFO)         # setting logging \n",
    "    firstRow = True\n",
    "    Utf8Reader = codecs.getreader(\"utf-8\")          #  Xcalar opens and streams files in binary mode,\n",
    "    utf8Stream = Utf8Reader(inStream)               #  We need a codec to convert it to UTF-8\n",
    "    for line in utf8Stream:                                  \n",
    "        fields = line.split(\",\")                    # split comma separated fields\n",
    "        if firstRow:                                # skip first row (headers)\n",
    "            headers = fields                              \n",
    "            firstRow = False\n",
    "            continue\n",
    "        try:\n",
    "            record = {}                                                       # record dictionary\n",
    "            record[\"security\"] = fields[0]                                      # Asked Price \n",
    "            record[\"Date\"] = fields[1]                                        # Date\n",
    "            record[\"Ask\"] = float(fields[3])                                  # Asked Price\n",
    "            record[\"Bid\"] = float(fields[2])                                  # Bid Price\n",
    "            record[\"Avg\"] = (float(fields[2]) + float(fields[3])) / 2.0       # New Field , (Ask + Bid) / 2.0\n",
    "            record[\"Sale\"] = float(fields[6])                                 # Handshake price\n",
    "            record[\"Volume\"] = float(fields [8])                              # Number of stocks\n",
    "            record[\"Total\"] = float(fields[8]) * float (fields[6])            # New Field , Total Price \n",
    "            yield record;\n",
    "        except Exception as e:\n",
    "            #add error logging. These logs will appear in file xpu.out\n",
    "            log_dict = {}\n",
    "            log_dict [\"Time Stamp\"] = datetime.datetime.utcnow().strftime(\"%I:%M%p on %B %d, %Y\")\n",
    "            log_dict [\"Source UDF\"] = \"parse_stocks_file\"\n",
    "            log_dict [\"Description\"] = \"Parser Error \" + str(e)\n",
    "            log_dict [\"File\"] = inFile\n",
    "            logging.error(log_dict)\n",
    "            yield {\"Bad Record\":line, \"Exception\": str(e)}\n",
    "\n",
    "### WARNING DO NOT EDIT CODE BELOW THIS LINE ###\n",
    "from xcalar.compute.api.Dataset import *\n",
    "from xcalar.compute.coretypes.DataFormatEnums.ttypes import DfFormatTypeT\n",
    "from xcalar.compute.api.Udf import Udf\n",
    "from xcalar.compute.coretypes.LibApisCommon.ttypes import XcalarApiException\n",
    "import random\n",
    "\n",
    "def uploadUDF():\n",
    "    import inspect\n",
    "    sourceCode = \"\".join(inspect.getsourcelines(parse_and_log)[0])\n",
    "    try:\n",
    "        Udf(xcalarApi).add(\"log_stocks\", sourceCode)\n",
    "    except XcalarApiException as e:\n",
    "        if e.status == StatusT.StatusUdfModuleAlreadyExists:\n",
    "            Udf(xcalarApi).update(\"log_stocks\", sourceCode)\n",
    "\n",
    "def testImportUDF():\n",
    "    from IPython.core.display import display, HTML\n",
    "    userName = \"nogievetsky@xcalar.com\"\n",
    "    tempDatasetName = userName + \".\" + str(random.randint(10000,99999)) + \"jupyterDS\" + str(random.randint(10000,99999))\n",
    "    dataset = UdfDataset(xcalarApi,\n",
    "        \"Default Shared Root\",\n",
    "        \"/tmp/stocks_bad.csv\",\n",
    "        tempDatasetName,\n",
    "        \"log_stocks:parse_and_log\")\n",
    "\n",
    "    dataset.load()\n",
    "\n",
    "    resultSet = ResultSet(xcalarApi, datasetName=dataset.name, maxRecords=100)\n",
    "\n",
    "    NUMROWS = 100\n",
    "    rowN = 0\n",
    "    numCols = 0\n",
    "    headers = []\n",
    "    data = []\n",
    "    for row in resultSet:\n",
    "        if rowN >= NUMROWS:\n",
    "            break\n",
    "        newRow = [\"\"] * numCols\n",
    "        for key in row:\n",
    "            idx = headers.index(key) if key in headers else -1\n",
    "            if idx > -1:\n",
    "                newRow[idx] = row[key]\n",
    "            else:\n",
    "                numCols += 1\n",
    "                newRow.append(row[key])\n",
    "                headers.append(key)\n",
    "        data.append(newRow)\n",
    "        rowN += 1\n",
    "    data = [row + [\"\"] * (numCols - len(row)) for row in data]\n",
    "\n",
    "    print(\"The following should look like a proper table with headings.\")\n",
    "    display(HTML(\n",
    "            '<table><tr><th>{}</th></tr><tr>{}</tr></table>'.format(\n",
    "            '</th><th>'.join(headers),\n",
    "            '</tr><tr>'.join('<td>{}</td>'.format('</td><td>'.join(str(_) for _ in row)) for row in data)\n",
    "            )))\n",
    "\n",
    "    dataset.delete()\n",
    "    print(\"End of UDF\")\n",
    "\n",
    "# Test import UDF on file\n",
    "uploadUDF()\n",
    "testImportUDF()"
   ]
  },
  {
   "cell_type": "markdown",
   "metadata": {},
   "source": [
    "## Creating a Table from your Data\n",
    "<HTML>\n",
    "    <br>\n",
    "We almost done. Now, as covered in <a href=\"./1%20-%20Import%20UDF%20Simple%20Parser.ipynb\" target=\"_self\">Import UDF Simple Parser</a>, you can use your UDF to create a Xcalar table. Please do this as this table will be used in a later Map UDF tutorial.\n",
    "    <br>\n",
    "</HTML>"
   ]
  },
  {
   "cell_type": "markdown",
   "metadata": {},
   "source": [
    "1. Click the Datasets icon in the XD menu.\n",
    "2. In the <b>Import Data Source</b> form select 'Default Shared Root' for <b>Data Target</b> and '/tmp/stocks_bad.csv' for <b>Data Source Path</b>.\n",
    "3. Click <b>NEXT</b>.\n",
    "4. In the next page, change the <b>Format</b> to 'Custom Format', this will change the other fields allowing you to select a UDF.\n",
    "5. Select the Module you created, and 'parse_stocks_file_log' in <b>Function</b>.\n",
    "6. Click <b>CREATE DATASET</b>.\n",
    "7. The next page will show a preview of your table, slect all columns and click <b>CREATE TABLE</b>.\n",
    "\n",
    "<img src=\"importStockBad.png\" style=\"width: 800px; border: 1px solid #CCC;\"/>"
   ]
  },
  {
   "cell_type": "markdown",
   "metadata": {},
   "source": [
    "## Checking the log file\n",
    "\n",
    "Once we run the import operation and created the table, some of the records where filtered out and recorded in the Xcalar UDF log file <i>xpu.out</i>. The code below will print the last 10 errors you sent to the log. Note that in one of the later tutorials on log analytics we will explore how we can get more insights from this log."
   ]
  },
  {
   "cell_type": "code",
   "execution_count": 15,
   "metadata": {},
   "outputs": [
    {
     "data": {
      "text/plain": [
       "['ERROR:root:{\\'Time Stamp\\': \\'12:37PM on May 22, 2018\\', \\'Source UDF\\': \\'parse_stocks_file\\', \\'Description\\': \"Parser Error could not convert string to float: \\'doRayMe\\'\", \\'File\\': \\'/tmp/stocks_bad.csv\\'}\\n',\n",
       " 'ERROR:root:{\\'Time Stamp\\': \\'12:37PM on May 22, 2018\\', \\'Source UDF\\': \\'parse_stocks_file\\', \\'Description\\': \"Parser Error could not convert string to float: \\'doRayMe\\'\", \\'File\\': \\'/tmp/stocks_bad.csv\\'}\\n',\n",
       " 'ERROR:root:{\\'Time Stamp\\': \\'12:37PM on May 22, 2018\\', \\'Source UDF\\': \\'parse_stocks_file\\', \\'Description\\': \"Parser Error could not convert string to float: \\'doRayMe\\'\", \\'File\\': \\'/tmp/stocks_bad.csv\\'}\\n',\n",
       " 'ERROR:root:{\\'Time Stamp\\': \\'12:37PM on May 22, 2018\\', \\'Source UDF\\': \\'parse_stocks_file\\', \\'Description\\': \"Parser Error could not convert string to float: \\'doRayMe\\'\", \\'File\\': \\'/tmp/stocks_bad.csv\\'}\\n',\n",
       " 'ERROR:root:{\\'Time Stamp\\': \\'12:37PM on May 22, 2018\\', \\'Source UDF\\': \\'parse_stocks_file\\', \\'Description\\': \"Parser Error could not convert string to float: \\'doRayMe\\'\", \\'File\\': \\'/tmp/stocks_bad.csv\\'}\\n',\n",
       " 'ERROR:root:{\\'Time Stamp\\': \\'12:37PM on May 22, 2018\\', \\'Source UDF\\': \\'parse_stocks_file\\', \\'Description\\': \"Parser Error could not convert string to float: \\'doRayMe\\'\", \\'File\\': \\'/tmp/stocks_bad.csv\\'}\\n',\n",
       " 'ERROR:root:{\\'Time Stamp\\': \\'12:37PM on May 22, 2018\\', \\'Source UDF\\': \\'parse_stocks_file\\', \\'Description\\': \"Parser Error could not convert string to float: \\'doRayMe\\'\", \\'File\\': \\'/tmp/stocks_bad.csv\\'}\\n',\n",
       " 'ERROR:root:{\\'Time Stamp\\': \\'12:37PM on May 22, 2018\\', \\'Source UDF\\': \\'parse_stocks_file\\', \\'Description\\': \"Parser Error could not convert string to float: \\'doRayMe\\'\", \\'File\\': \\'/tmp/stocks_bad.csv\\'}\\n',\n",
       " \"2018-05-22 05:37:56,288 - Node 0 - Load App - INFO - Beginning load of 1 sources: {'sources': [{'recursive': False, 'path': '/tmp/sqlite.config', 'targetName': 'Default Shared Root', 'fileNamePattern': ''}], 'sampleSize': 10737418240, 'parseArgs': {'parserFnName': 'simple_connector:sqlite3_import_udf', 'parserArgJson': '{}', 'recordNumFieldName': '', 'fileNameFieldName': '', 'allowFileErrors': False, 'fieldsRequired': [], 'allowRecordErrors': False, 'fields': []}}\\n\",\n",
       " '2018-05-22 05:37:56,289 - Node 0 - Load App - INFO - Load of 1 sources sampled 1 files(109.0 B) of 1; scheduled into 1 groups across 1 nodes\\n']"
      ]
     },
     "execution_count": 15,
     "metadata": {},
     "output_type": "execute_result"
    }
   ],
   "source": [
    "import os\n",
    "\n",
    "#FINDS THE xpu.out LOG FILE AND READS DATA\n",
    "def getConfigDict():\n",
    "    from xcalar.compute.api.Env import XcalarConfigPath\n",
    "    localExportDir = XcalarConfigPath\n",
    "    cfgData = None\n",
    "    with open(XcalarConfigPath, 'r') as f:\n",
    "        cfgData = f.read()\n",
    "    configdict = {}\n",
    "    for line in cfgData.splitlines():\n",
    "        if \"=\" in line:\n",
    "            name, var = line.partition(\"=\")[::2]\n",
    "            configdict[name] = var.strip()\n",
    "    return configdict\n",
    "config = getConfigDict()\n",
    "jnpath = os.getcwd()\n",
    "fallbackpath = os.path.join(jnpath.split(\"opt/xcalar/jupyterNotebooks\")[0],\"log/xcalar\")\n",
    "logpath = config.get('Constants.XcalarLogCompletePath', fallbackpath)\n",
    "with open(os.path.join(logpath,'xpu.out'),\"r\") as file:\n",
    "    content = file.readlines()\n",
    "content[-10:]"
   ]
  },
  {
   "cell_type": "markdown",
   "metadata": {},
   "source": [
    "<html>\n",
    " Next: <a href=\"./3%20-%20Import%20UDF%20-%20Simple%20Connector.ipynb\" target=\"_self\">3. Import UDF: Simple Connector.ipynb</a><br>\n",
    " Back to <a href=\"./0%20-%20Introduction.ipynb\" target=\"_self\">Introduction</a><br>\n",
    "</html>"
   ]
  }
 ],
 "metadata": {
  "kernelspec": {
   "display_name": "Python 3",
   "language": "python",
   "name": "python3"
  },
  "language_info": {
   "codemirror_mode": {
    "name": "ipython",
    "version": 3
   },
   "file_extension": ".py",
   "mimetype": "text/x-python",
   "name": "python",
   "nbconvert_exporter": "python",
   "pygments_lexer": "ipython3",
   "version": "3.6.4"
  }
 },
 "nbformat": 4,
 "nbformat_minor": 2
}
