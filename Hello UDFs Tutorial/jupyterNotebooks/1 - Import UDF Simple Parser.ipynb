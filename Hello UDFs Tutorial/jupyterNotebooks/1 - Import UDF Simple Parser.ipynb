{
 "cells": [
  {
   "cell_type": "markdown",
   "metadata": {},
   "source": [
    "## Import UDF: Simple Parser \n",
    "\n",
    "<HTML>\n",
    "<br>\n",
    "As you learned in the <a href=\"./0%20-%20Introduction.ipynb\" target=\"_self\">Introduction</a>, UDFs are used to import data, transform it and export into downstream systems. In this Jupyter Notebook you will learn how to create a simple Import UDF Parser.\n",
    "    \n",
    "<br>\n",
    "<br>\n",
    "<div style=\"background-color : blue; color : white\n",
    "    width: 284px;\n",
    "    padding: 20px 20px 20px 100px;\n",
    "    border: 1px solid #BFBFBF;\n",
    "    background-color: white;box-shadow: 0px 0px 0px 0px #aaaaaa; position: relative;\"><font style=\"font-size:20px\">\n",
    "What is a Parser?</font>\n",
    "    <br>Parsers, are a subset of Import UDFs that read data from a file, optionally amend the data and insert it into a Xcalar table. For more on the Import UDF and other Parsers see [User-defined function (UDF) examples\n",
    "](https://www.xcalar.com/documentation/help/XD/1.3.1/Content/D_Reference/H1_UdfExamples.htm?Highlight=import%20udf). It may also be useful to watch an introductory video tutorial [How-to Series (UDFs) - How to write import UDFs](https://www.youtube.com/watch?v=RFc_Ks8MgvU) on the Xcalar Youtube channel. \n",
    "    <img src=\"xi-questionmark_yellow.png\" \n",
    "         style=\"position: absolute;top: 20px;left: 30px;width:40px ;height:40px\" />\n",
    "</div>\n",
    "</HTML>\n"
   ]
  },
  {
   "cell_type": "markdown",
   "metadata": {},
   "source": [
    "<HTML>\n",
    "<div style=\"background-color : blue; color : white\n",
    "    width: 284px;\n",
    "    padding: 20px 20px 20px 100px;\n",
    "    border: 1px solid #BFBFBF;\n",
    "    background-color: white;box-shadow: 0px 0px 0px #aaaaaa;\"><font style=\"font-size:20px\">\n",
    "    Authoring UDFs</font>\n",
    "    <br>There are two ways of creating a UDF. First, using Xcalar's native UDF panel and second, using Jupyter Notebook. This tutorial only covers authoring UDFs with Jupyter. To learn more about the native Xcalar Design UDF panel refer to \n",
    "[Creating a UDF in Xcalar Design](https://www.xcalar.com/documentation/help/XD/1.3.1/Content/C_AdvancedTasks/C_UDFTasks.htm).\n",
    "    <img src=\"xi-unlock icon_blue.png\" \n",
    "         style=\"position: absolute;top: 26px;left: 125px;width:35px ;height:45.94px\" />\n",
    "</div>\n",
    "\n",
    "</HTML>\n"
   ]
  },
  {
   "cell_type": "markdown",
   "metadata": {},
   "source": [
    "\n",
    "### Creating Sample Data\n",
    "We will write a Parser UDF that imports stock data from a local file, calculates the total sale price and insert it to a Xcalar table.\n",
    "\n",
    "First, you need to create a source file with random data. The code block below creates a file in the temporary directory `/tmp/` and appends 10000 security records in it. Highlight the cell and click <b>Run</b>."
   ]
  },
  {
   "cell_type": "code",
   "execution_count": 8,
   "metadata": {},
   "outputs": [
    {
     "name": "stdout",
     "output_type": "stream",
     "text": [
      "Created /tmp/stocks.csv file: 6246506 bytes\n"
     ]
    }
   ],
   "source": [
    "import random\n",
    "from datetime import datetime, timedelta\n",
    "\n",
    "def genRandomMarketData(fileDesc, dayCount):\n",
    "    #column names\n",
    "    headers =\"security,date,Bid,Ask,Bid size,Ask size,Last Sale,Last size,Volume\"\n",
    "    #stock names\n",
    "    securities = [\"GGX\" ,\"ABC\" , \"ZZM\" , \"XEW\" , \"FFG\" ,\"UYT\",\"RTF\"]\n",
    "\n",
    "    file.write(headers + \"\\n\")\n",
    "    for rec in range (1, dayCount +1):\n",
    "        date = datetime.today() - timedelta(days=rec)\n",
    "        for security in securities:\n",
    "            # bids with ask<=0 will be later tracked in Map UDF example\n",
    "            # although it is a bad data, we want to analyze these records and their source latter\n",
    "            ask = random.uniform(-1,200)\n",
    "            bid = ask + random.uniform(1,3)\n",
    "            bidSize = random.randint(400,1500)\n",
    "            askSize = random.randint(400,1500)\n",
    "            lastSale = ask + random.uniform(-3,+3)\n",
    "            lastSize = random.randint(400,1500)\n",
    "            volume = random.randint(5000,15000)\n",
    "            record = security + \",\" + date.strftime('%m.%d.%Y') + \",\" + str(ask) + \",\" + str(bid) + \",\" + str(bidSize)\n",
    "            record = record + \",\" + str(askSize) + \",\" + str(lastSale) + \",\" + str(lastSize) + \",\" + str(volume)  \n",
    "            file.write(record + \"\\n\")\n",
    "\n",
    "# write the file\n",
    "file_path = \"/tmp/stocks.csv\"\n",
    "with open(file_path, \"w\") as file: \n",
    "    genRandomMarketData(file,10000)\n",
    "\n",
    "# test the file was created\n",
    "import os\n",
    "print(\"Created {} file: {} bytes\".format(file_path, os.stat(file_path).st_size))"
   ]
  },
  {
   "cell_type": "markdown",
   "metadata": {},
   "source": [
    "### Authoring a UDF\n",
    "\n",
    "Now we are ready to write a Parser UDF that will process the sample data we just generated. \n",
    "\n",
    "Import UDFs take two arguments: the full path of the source file, and the binary file stream of the source file. Import UDFs leverage the Python generator function to insert data into the target tables. \n",
    "\n",
    "In the code below we construct the ‘record’ dictionary variable that maps column names to column values. This dictionary variable represents the record that will be inserted into the Xcalar table. Note that in addition to reading data from the source file, the code also constructs \"Total Sales\" column that was not present in the source. The code iterates over each row performing operations on some of the fields. Each record is passed to the Python Generator to be inserted into the table via the yield command.\n",
    "\n",
    "Keeping this in mind, let's implement our import function."
   ]
  },
  {
   "cell_type": "code",
   "execution_count": 2,
   "metadata": {},
   "outputs": [],
   "source": [
    "def parse_stocks_file(inFile, inStream):\n",
    "    firstRow = True\n",
    "    import codecs \n",
    "    Utf8Reader = codecs.getreader(\"utf-8\") #  Xcalar opens and streams files in binary mode,\n",
    "    utf8Stream = Utf8Reader(inStream)      #  We need a codec to convert it to UTF-8\n",
    "    for line in utf8Stream:                                  \n",
    "        fields = line[:-1].split(\",\")      # split comma separated fields\n",
    "        if firstRow:                       # skip first row (headers)\n",
    "            headers = fields                              \n",
    "            firstRow = False\n",
    "            continue\n",
    "        record = {}                        # record dictionary\n",
    "        for i,field in enumerate(fields):\n",
    "            record[headers[i]] = field\n",
    "        record[\"Total Sale\"] = (float(record[\"Last Sale\"]) * float(record[\"Volume\"])) \n",
    "        yield (record)                     # returns a single row to Xcalar to be inserted\n"
   ]
  },
  {
   "cell_type": "markdown",
   "metadata": {},
   "source": [
    "### Testing your Parser Function\n",
    "\n",
    "One way to test your parser is using the snippet below that iterates over several records as they would be inserted into the target Xcalar table. \n",
    "\n",
    "Note that a better way to test your parser is provided by the Xcalar Template that we will discuss in the <a name=\"test_and_upload\">Testing & Uploading UDF to Workbook</a> section later in this tutorial."
   ]
  },
  {
   "cell_type": "code",
   "execution_count": 11,
   "metadata": {},
   "outputs": [
    {
     "name": "stdout",
     "output_type": "stream",
     "text": [
      "{'security': 'GGX', 'date': '06.04.2018', 'Bid': '97.01519269012385', 'Ask': '98.58351312990226', 'Bid size': '1000', 'Ask size': '1191', 'Last Sale': '94.98348332118351', 'Last size': '703', 'Volume': '13756', 'Total Sale': 1306592.7965662004}\n",
      "{'security': 'ABC', 'date': '06.04.2018', 'Bid': '159.16283761369965', 'Ask': '160.17275961434677', 'Bid size': '1289', 'Ask size': '666', 'Last Sale': '157.7267128144177', 'Last size': '938', 'Volume': '5071', 'Total Sale': 799832.1606819122}\n",
      "{'security': 'ZZM', 'date': '06.04.2018', 'Bid': '178.55466743419694', 'Ask': '180.7752692892218', 'Bid size': '1207', 'Ask size': '624', 'Last Sale': '177.98573961358767', 'Last size': '1249', 'Volume': '8443', 'Total Sale': 1502733.5995575206}\n"
     ]
    }
   ],
   "source": [
    "import itertools\n",
    "\n",
    "with open(\"/tmp/stocks.csv\",\"rb\") as file: \n",
    "    data = parse_stocks_file(\"inFile\", file)\n",
    "    # print top three records\n",
    "    for record in itertools.islice(data, 3):\n",
    "        print(record)"
   ]
  },
  {
   "cell_type": "markdown",
   "metadata": {},
   "source": [
    "<h3>Connecting Jupyter Notebook to Xcalar</h3>\n",
    "\n",
    "Before utilizing this UDF, you need to establish a connection to the Xcalar session. \n",
    "\n",
    "1.   Click the <b>CODE SNIPPETS</b> dropdown menu in the top right corner of Jupyter.\n",
    "2.   Select <b>Connect to Xcalar workbook</b>.\n",
    "3.   Run the code cell containing the generated code to connect Jupyter to you current workbook.\n",
    "\n",
    "Please note that when you are creating a new Jupyter Notebook, the \"Xcalar Notebook Connector\" cell will be created automatically.\n",
    "\n",
    "Please highlight the following cell and <b>Run</b>."
   ]
  },
  {
   "cell_type": "code",
   "execution_count": 4,
   "metadata": {},
   "outputs": [],
   "source": [
    "# Xcalar Notebook Connector\n",
    "# \n",
    "# Connects this Jupyter Notebook to the Xcalar Workbook <wb-1>\n",
    "#\n",
    "# To use any data from your Xcalar Workbook, run this snippet before other \n",
    "# Xcalar Snippets in your workbook. \n",
    "# \n",
    "# A best practice is not to edit this cell.\n",
    "#\n",
    "# If you wish to use this Jupyter Notebook with a different Xcalar Workbook \n",
    "# delete this cell and click CODE SNIPPETS --> Connect to Xcalar Workbook.\n",
    "\n",
    "%matplotlib inline\n",
    "\n",
    "# Importing third-party modules to facilitate data work. \n",
    "import pandas as pd\n",
    "import matplotlib.pyplot as plt\n",
    "\n",
    "# Importing Xcalar packages and modules. \n",
    "# For more information, search and post questions on discourse.xcalar.com\n",
    "from xcalar.compute.api.XcalarApi import XcalarApi\n",
    "from xcalar.compute.api.Session import Session\n",
    "from xcalar.compute.api.WorkItem import WorkItem\n",
    "from xcalar.compute.api.ResultSet import ResultSet\n",
    "\n",
    "# Create a XcalarApi object\n",
    "xcalarApi = XcalarApi()\n",
    "# Connect to current workbook that you are in\n",
    "workbook = Session(xcalarApi, \"xdpadmin\", \"xdpadmin\", 4399150, True, \"TutorialNotebooks-HelloUDF-Full\")\n",
    "xcalarApi.setSession(workbook)"
   ]
  },
  {
   "cell_type": "markdown",
   "metadata": {},
   "source": [
    "### Using UDF Tempate to Create Import UDF\n",
    "\n",
    "\n",
    "1.   Again, click the <b>CODE SNIPPETS</b> dropdown.\n",
    "2.   This time select <b>Create Import UDF</b>.\n",
    "\n",
    "A form will pop up with the following fields:\n",
    "\n",
    "*   <b>Data Target</b>: Select 'Default Share Root'\n",
    "*   <b>Data source Path</b>: Type the path to the file you created earlier '/tmp/stocks.csv'.\n",
    "*   <b>Module Name</b>: Choose a name for your UDF group, e.g. 'my_stocks'.\n",
    "*   <b>Function Name</b>: Enter the name of your parser function, 'parse_stocks_file'.\n",
    "\n",
    "Once you enter these settings click the <b>CONFIRM</b> button.\n"
   ]
  },
  {
   "cell_type": "markdown",
   "metadata": {},
   "source": [
    "   <HTML> <img src=\"parser_udf_steps.png\" style=\"width:440px\" /></HTML>"
   ]
  },
  {
   "cell_type": "markdown",
   "metadata": {},
   "source": [
    "<a name=\"test_and_upload\"></a>\n",
    "### Testing & Uploading UDF to your Workbook\n",
    "\n",
    "You should see a new code cell added to your Jupyter Notebook. In this new cell locate the function 'parse_stocks_file' and replace it with our version of that function. \n",
    "\n",
    "Now run the code and see sample lines generated in a table under the code cell. Below you will find the above steps already implemented. The code below does the following:\n",
    "- Declares UDF function (parse_stocks_file).\n",
    "- Provides a function to upload UDF to Xcalar (uploadUDF).\n",
    "- Test the UDF once it has been uploaded (testImportUDF) - note that this is an alternative way to test your UDF. It is better because it tests actually uploaded UDF function, also it is generated for you automatically by the Template.\n"
   ]
  },
  {
   "cell_type": "code",
   "execution_count": 5,
   "metadata": {},
   "outputs": [
    {
     "name": "stdout",
     "output_type": "stream",
     "text": [
      "The following should look like a proper table with headings.\n"
     ]
    },
    {
     "data": {
      "text/html": [
       "<table><tr><th>security</th><th>date</th><th>Bid</th><th>Ask</th><th>Bid size</th><th>Ask size</th><th>Last Sale</th><th>Last size</th><th>Volume</th><th>Total Sale</th></tr><tr><td>GGX</td><td>05.24.2018</td><td>103.31345139991043</td><td>105.6778701874851</td><td>1357</td><td>1410</td><td>103.33112454568307</td><td>1490</td><td>14428</td><td>1490861.4649451154</td></tr><tr><td>ABC</td><td>05.24.2018</td><td>169.90860774729515</td><td>172.4875960759087</td><td>1079</td><td>475</td><td>171.98397799793744</td><td>425</td><td>12364</td><td>2126409.9039664986</td></tr><tr><td>ZZM</td><td>05.24.2018</td><td>118.19393752442697</td><td>120.51581817275006</td><td>564</td><td>1357</td><td>120.47078664565599</td><td>1425</td><td>12308</td><td>1482754.442034734</td></tr><tr><td>XEW</td><td>05.24.2018</td><td>25.056889047063542</td><td>26.34779477289431</td><td>1446</td><td>617</td><td>27.275088644956273</td><td>1304</td><td>5056</td><td>137902.8481888989</td></tr><tr><td>FFG</td><td>05.24.2018</td><td>48.670564456906284</td><td>49.73149689545219</td><td>584</td><td>829</td><td>46.568009326936135</td><td>764</td><td>8967</td><td>417575.3396346363</td></tr><tr><td>UYT</td><td>05.24.2018</td><td>94.6684222982964</td><td>96.29528501314402</td><td>1093</td><td>1033</td><td>92.22536902189535</td><td>435</td><td>5383</td><td>496449.16144486266</td></tr><tr><td>RTF</td><td>05.24.2018</td><td>-0.41750235140633485</td><td>2.0018141383363517</td><td>702</td><td>1157</td><td>1.350552830023628</td><td>1431</td><td>5781</td><td>7807.5459103665935</td></tr><tr><td>GGX</td><td>05.23.2018</td><td>158.1672249053461</td><td>159.2968332531478</td><td>985</td><td>634</td><td>161.13852477336044</td><td>1464</td><td>7503</td><td>1209022.3513745235</td></tr><tr><td>ABC</td><td>05.23.2018</td><td>22.503832869272117</td><td>24.279247873536505</td><td>431</td><td>820</td><td>21.3744937488841</td><td>1093</td><td>14813</td><td>316620.37590222014</td></tr><tr><td>ZZM</td><td>05.23.2018</td><td>75.25134452433052</td><td>77.96135545881455</td><td>1111</td><td>1002</td><td>76.40839421814982</td><td>1464</td><td>9676</td><td>739327.6224548176</td></tr><tr><td>XEW</td><td>05.23.2018</td><td>52.78591880482251</td><td>54.327018806543435</td><td>683</td><td>1202</td><td>52.14191606751159</td><td>445</td><td>8870</td><td>462498.7955188278</td></tr><tr><td>FFG</td><td>05.23.2018</td><td>160.6241204766735</td><td>163.57831004627448</td><td>935</td><td>1161</td><td>160.83298214814312</td><td>1298</td><td>8552</td><td>1375443.66333092</td></tr><tr><td>UYT</td><td>05.23.2018</td><td>145.10057519657755</td><td>147.5181002554816</td><td>1483</td><td>587</td><td>142.4134349203802</td><td>521</td><td>6870</td><td>978380.297903012</td></tr><tr><td>RTF</td><td>05.23.2018</td><td>22.659647973665486</td><td>25.300495702924913</td><td>1029</td><td>782</td><td>19.96240729871867</td><td>1204</td><td>8963</td><td>178923.05661841543</td></tr><tr><td>GGX</td><td>05.22.2018</td><td>128.40128104063987</td><td>129.43435918706686</td><td>652</td><td>966</td><td>130.76539069652478</td><td>556</td><td>14393</td><td>1882106.268295081</td></tr><tr><td>ABC</td><td>05.22.2018</td><td>83.70399108547723</td><td>86.3228523815494</td><td>1437</td><td>1463</td><td>80.92105434904487</td><td>655</td><td>8726</td><td>706117.1202497655</td></tr><tr><td>ZZM</td><td>05.22.2018</td><td>154.39811520059416</td><td>156.92458105866928</td><td>753</td><td>1352</td><td>152.5409162716053</td><td>426</td><td>6365</td><td>970922.9320687678</td></tr><tr><td>XEW</td><td>05.22.2018</td><td>163.74589875300597</td><td>166.1846797441853</td><td>1161</td><td>709</td><td>166.06109258266545</td><td>1067</td><td>8144</td><td>1352401.5379932274</td></tr><tr><td>FFG</td><td>05.22.2018</td><td>22.91534155302512</td><td>25.135800452343865</td><td>1019</td><td>951</td><td>25.235882792776742</td><td>922</td><td>10235</td><td>258289.26038406996</td></tr><tr><td>UYT</td><td>05.22.2018</td><td>56.34454486896594</td><td>57.56139176257658</td><td>573</td><td>898</td><td>57.46306375177872</td><td>433</td><td>11486</td><td>660020.7502529303</td></tr><tr><td>RTF</td><td>05.22.2018</td><td>83.67372001715798</td><td>86.6298076374988</td><td>1061</td><td>667</td><td>85.54769536304568</td><td>771</td><td>11569</td><td>989701.2876550754</td></tr><tr><td>GGX</td><td>05.21.2018</td><td>184.94460178005582</td><td>186.10059194895135</td><td>1491</td><td>1353</td><td>186.85194851781694</td><td>1114</td><td>7865</td><td>1469590.5750926302</td></tr><tr><td>ABC</td><td>05.21.2018</td><td>171.97101514408178</td><td>173.71371217891794</td><td>1259</td><td>1401</td><td>169.11071853116252</td><td>1395</td><td>7638</td><td>1291667.6681410193</td></tr><tr><td>ZZM</td><td>05.21.2018</td><td>142.84036064563716</td><td>145.3509821121835</td><td>928</td><td>1476</td><td>141.13052870155457</td><td>940</td><td>11857</td><td>1673384.6788143325</td></tr><tr><td>XEW</td><td>05.21.2018</td><td>91.73925156923806</td><td>93.95028973498518</td><td>1347</td><td>1412</td><td>93.44560194579066</td><td>1345</td><td>11434</td><td>1068457.0126481703</td></tr><tr><td>FFG</td><td>05.21.2018</td><td>162.30023600934592</td><td>163.79011884246316</td><td>667</td><td>1268</td><td>162.20572658587636</td><td>589</td><td>11685</td><td>1895373.9151559654</td></tr><tr><td>UYT</td><td>05.21.2018</td><td>161.34821642279095</td><td>163.4093972839592</td><td>417</td><td>1224</td><td>161.0987965953737</td><td>435</td><td>5151</td><td>829819.9012627699</td></tr><tr><td>RTF</td><td>05.21.2018</td><td>159.22697044727062</td><td>161.541274120246</td><td>736</td><td>1355</td><td>156.85843181193954</td><td>422</td><td>5755</td><td>902720.275077712</td></tr><tr><td>GGX</td><td>05.20.2018</td><td>195.18592608583398</td><td>196.41160516742602</td><td>1285</td><td>793</td><td>193.77489822404112</td><td>1115</td><td>10106</td><td>1958289.1214521595</td></tr><tr><td>ABC</td><td>05.20.2018</td><td>116.28278498277405</td><td>118.57440118421144</td><td>1165</td><td>656</td><td>117.2400686195773</td><td>552</td><td>7323</td><td>858549.0225011646</td></tr><tr><td>ZZM</td><td>05.20.2018</td><td>83.55689232866992</td><td>85.16653503218582</td><td>819</td><td>555</td><td>85.9139638312403</td><td>1191</td><td>5525</td><td>474674.65016760264</td></tr><tr><td>XEW</td><td>05.20.2018</td><td>38.10510523070833</td><td>39.17000876913975</td><td>657</td><td>837</td><td>36.12858752826351</td><td>1143</td><td>11534</td><td>416707.1285509913</td></tr><tr><td>FFG</td><td>05.20.2018</td><td>40.28773923609773</td><td>42.52424897776133</td><td>1339</td><td>692</td><td>37.33375307498537</td><td>711</td><td>12446</td><td>464655.8907712679</td></tr><tr><td>UYT</td><td>05.20.2018</td><td>155.16147189905269</td><td>158.14799024082654</td><td>1042</td><td>1076</td><td>156.82245484309493</td><td>1454</td><td>11094</td><td>1739788.3140292952</td></tr><tr><td>RTF</td><td>05.20.2018</td><td>60.23823729153736</td><td>61.431314797010366</td><td>1288</td><td>593</td><td>60.40323396565865</td><td>1019</td><td>6064</td><td>366285.21076775406</td></tr><tr><td>GGX</td><td>05.19.2018</td><td>72.32203399625101</td><td>75.00490361080968</td><td>1213</td><td>442</td><td>71.3465119351788</td><td>408</td><td>10981</td><td>783456.0475601983</td></tr><tr><td>ABC</td><td>05.19.2018</td><td>95.32938241445744</td><td>97.56643486657693</td><td>1347</td><td>960</td><td>94.7631060184553</td><td>1050</td><td>9121</td><td>864334.2899943308</td></tr><tr><td>ZZM</td><td>05.19.2018</td><td>54.29932357493934</td><td>56.64497625535743</td><td>599</td><td>444</td><td>52.988549998986734</td><td>1047</td><td>7516</td><td>398261.9417923843</td></tr><tr><td>XEW</td><td>05.19.2018</td><td>88.44845494019046</td><td>90.68656238149238</td><td>1396</td><td>517</td><td>86.06879223048065</td><td>1174</td><td>13212</td><td>1137140.8829491104</td></tr><tr><td>FFG</td><td>05.19.2018</td><td>110.10582549828469</td><td>111.89416772511083</td><td>968</td><td>804</td><td>109.79137512433573</td><td>839</td><td>13646</td><td>1498213.1049466853</td></tr><tr><td>UYT</td><td>05.19.2018</td><td>85.04245210920418</td><td>86.17259446099303</td><td>930</td><td>1300</td><td>83.36190248076336</td><td>1409</td><td>5652</td><td>471161.47282127454</td></tr><tr><td>RTF</td><td>05.19.2018</td><td>105.32523412834834</td><td>106.65783187327216</td><td>439</td><td>951</td><td>105.04635455039808</td><td>1412</td><td>11035</td><td>1159186.5224636428</td></tr><tr><td>GGX</td><td>05.18.2018</td><td>98.68336710544177</td><td>101.46142506977931</td><td>1396</td><td>1133</td><td>96.77089466094996</td><td>826</td><td>11376</td><td>1100865.6976629668</td></tr><tr><td>ABC</td><td>05.18.2018</td><td>101.7421341977182</td><td>103.6831429304926</td><td>1345</td><td>497</td><td>98.83047573322214</td><td>1333</td><td>6702</td><td>662361.8483640548</td></tr><tr><td>ZZM</td><td>05.18.2018</td><td>155.48689762666802</td><td>156.5730797530779</td><td>986</td><td>853</td><td>155.77151784210412</td><td>910</td><td>10931</td><td>1702738.46153204</td></tr><tr><td>XEW</td><td>05.18.2018</td><td>52.9967934526804</td><td>54.35200380562215</td><td>1110</td><td>409</td><td>50.40871182396368</td><td>948</td><td>11511</td><td>580254.6818056459</td></tr><tr><td>FFG</td><td>05.18.2018</td><td>64.36832290882928</td><td>65.42236863595113</td><td>736</td><td>1148</td><td>65.23366786686343</td><td>1494</td><td>14672</td><td>957108.3749426202</td></tr><tr><td>UYT</td><td>05.18.2018</td><td>131.56834174497772</td><td>133.64194666536648</td><td>1003</td><td>450</td><td>130.0761686461924</td><td>1468</td><td>12770</td><td>1661072.673611877</td></tr><tr><td>RTF</td><td>05.18.2018</td><td>77.64700707866731</td><td>80.24743766662544</td><td>1355</td><td>698</td><td>78.93819383646898</td><td>886</td><td>14973</td><td>1181941.57631345</td></tr><tr><td>GGX</td><td>05.17.2018</td><td>69.80408685501973</td><td>71.21761557810149</td><td>586</td><td>1078</td><td>70.04729317309763</td><td>1163</td><td>13928</td><td>975618.6993149038</td></tr><tr><td>ABC</td><td>05.17.2018</td><td>64.61568293480505</td><td>66.75352488754974</td><td>1065</td><td>415</td><td>65.02414888142806</td><td>868</td><td>7490</td><td>487030.87512189616</td></tr><tr><td>ZZM</td><td>05.17.2018</td><td>26.525627276982487</td><td>27.968260975987505</td><td>1443</td><td>1408</td><td>26.646960628625756</td><td>737</td><td>5553</td><td>147970.57237075883</td></tr><tr><td>XEW</td><td>05.17.2018</td><td>87.44507019178255</td><td>89.91097347740546</td><td>1480</td><td>1273</td><td>85.9496501515574</td><td>924</td><td>9776</td><td>840243.7798816252</td></tr><tr><td>FFG</td><td>05.17.2018</td><td>199.0004949208463</td><td>200.37720483306495</td><td>1277</td><td>483</td><td>201.26724084576324</td><td>1185</td><td>7960</td><td>1602087.2371322755</td></tr><tr><td>UYT</td><td>05.17.2018</td><td>65.5826348819073</td><td>68.39577572506812</td><td>1122</td><td>1202</td><td>66.9360622018622</td><td>1374</td><td>6615</td><td>442782.0514653184</td></tr><tr><td>RTF</td><td>05.17.2018</td><td>60.3819823496042</td><td>63.33221713352825</td><td>945</td><td>732</td><td>57.84461927462987</td><td>849</td><td>13074</td><td>756260.552396511</td></tr><tr><td>GGX</td><td>05.16.2018</td><td>79.19756379120685</td><td>81.16278094567706</td><td>1222</td><td>810</td><td>82.13382033101637</td><td>617</td><td>14989</td><td>1231103.8329416043</td></tr><tr><td>ABC</td><td>05.16.2018</td><td>57.84231897726443</td><td>60.608465584971306</td><td>1334</td><td>1299</td><td>58.34924856576345</td><td>1054</td><td>14750</td><td>860651.416345011</td></tr><tr><td>ZZM</td><td>05.16.2018</td><td>163.0482446362668</td><td>165.74507340531736</td><td>438</td><td>1456</td><td>164.97891369689816</td><td>1368</td><td>14688</td><td>2423210.28438004</td></tr><tr><td>XEW</td><td>05.16.2018</td><td>13.789881707288982</td><td>16.714943203541846</td><td>1472</td><td>1161</td><td>12.384945497082398</td><td>1419</td><td>9098</td><td>112678.23413245566</td></tr><tr><td>FFG</td><td>05.16.2018</td><td>162.30818415041202</td><td>164.9956819073775</td><td>625</td><td>1259</td><td>159.9621662669844</td><td>769</td><td>6759</td><td>1081184.2817985476</td></tr><tr><td>UYT</td><td>05.16.2018</td><td>110.95785475811633</td><td>113.58817801435814</td><td>575</td><td>1226</td><td>113.1213556922354</td><td>751</td><td>11866</td><td>1342298.0066440653</td></tr><tr><td>RTF</td><td>05.16.2018</td><td>85.12704883159508</td><td>86.86782912027556</td><td>1497</td><td>958</td><td>84.42487315173155</td><td>540</td><td>10584</td><td>893552.8574379267</td></tr><tr><td>GGX</td><td>05.15.2018</td><td>15.02446195914682</td><td>16.06522763231187</td><td>594</td><td>761</td><td>15.955809772655419</td><td>828</td><td>14191</td><td>226428.89648375305</td></tr><tr><td>ABC</td><td>05.15.2018</td><td>152.82793857273867</td><td>154.25598376567964</td><td>1430</td><td>490</td><td>154.46991670647736</td><td>424</td><td>13042</td><td>2014596.6536858778</td></tr><tr><td>ZZM</td><td>05.15.2018</td><td>111.07363115636365</td><td>112.61145358463658</td><td>668</td><td>1439</td><td>108.10867060122688</td><td>693</td><td>9799</td><td>1059356.863221422</td></tr><tr><td>XEW</td><td>05.15.2018</td><td>110.73788619097859</td><td>112.15994127320118</td><td>888</td><td>1233</td><td>112.907981046563</td><td>711</td><td>12254</td><td>1383574.3997445828</td></tr><tr><td>FFG</td><td>05.15.2018</td><td>167.4949235099846</td><td>168.51069181132561</td><td>594</td><td>1391</td><td>166.99250275376374</td><td>463</td><td>14953</td><td>2497038.8936770293</td></tr><tr><td>UYT</td><td>05.15.2018</td><td>183.82410329740924</td><td>185.12048969655316</td><td>455</td><td>807</td><td>186.17056004336618</td><td>709</td><td>12899</td><td>2401414.05399938</td></tr><tr><td>RTF</td><td>05.15.2018</td><td>137.78640300593148</td><td>139.21538332291826</td><td>512</td><td>428</td><td>140.64049487101468</td><td>1075</td><td>14977</td><td>2106372.6916831867</td></tr><tr><td>GGX</td><td>05.14.2018</td><td>99.34067909602199</td><td>101.36598439641</td><td>1476</td><td>515</td><td>98.32736191398683</td><td>921</td><td>8544</td><td>840108.9801931035</td></tr><tr><td>ABC</td><td>05.14.2018</td><td>13.460397299166095</td><td>15.476603206963832</td><td>1363</td><td>555</td><td>14.809417487007249</td><td>794</td><td>9185</td><td>136024.4996181616</td></tr><tr><td>ZZM</td><td>05.14.2018</td><td>133.932456338414</td><td>135.49778903283834</td><td>1138</td><td>1269</td><td>133.3010049679441</td><td>458</td><td>5590</td><td>745152.6177708075</td></tr><tr><td>XEW</td><td>05.14.2018</td><td>141.898957817476</td><td>143.63524524413015</td><td>995</td><td>626</td><td>143.4975247466388</td><td>580</td><td>8777</td><td>1259477.7747012486</td></tr><tr><td>FFG</td><td>05.14.2018</td><td>143.53034146419137</td><td>145.05338628652882</td><td>1058</td><td>1443</td><td>144.10231901932536</td><td>497</td><td>11174</td><td>1610199.3127219416</td></tr><tr><td>UYT</td><td>05.14.2018</td><td>77.15333914494721</td><td>78.96923147590682</td><td>448</td><td>767</td><td>76.63029820575869</td><td>418</td><td>13871</td><td>1062938.8664120787</td></tr><tr><td>RTF</td><td>05.14.2018</td><td>102.3775037195417</td><td>104.98216264253423</td><td>1251</td><td>404</td><td>99.63595568625453</td><td>562</td><td>12718</td><td>1267170.084417785</td></tr><tr><td>GGX</td><td>05.13.2018</td><td>62.99749506381942</td><td>64.75800018655126</td><td>1272</td><td>748</td><td>65.17790517387066</td><td>479</td><td>9844</td><td>641611.2985315827</td></tr><tr><td>ABC</td><td>05.13.2018</td><td>178.24526926061182</td><td>179.39977241075027</td><td>826</td><td>986</td><td>180.34204053164163</td><td>806</td><td>7911</td><td>1426685.882645817</td></tr><tr><td>ZZM</td><td>05.13.2018</td><td>85.7905923579179</td><td>87.48970742937031</td><td>534</td><td>704</td><td>85.44340411686274</td><td>517</td><td>5008</td><td>427900.5678172486</td></tr><tr><td>XEW</td><td>05.13.2018</td><td>55.93155537102619</td><td>58.02779693322047</td><td>1202</td><td>882</td><td>56.0344475842213</td><td>755</td><td>13119</td><td>735115.9178573992</td></tr><tr><td>FFG</td><td>05.13.2018</td><td>49.13041720198846</td><td>51.10218048668477</td><td>726</td><td>1298</td><td>46.31258303291608</td><td>1203</td><td>9996</td><td>462940.57999702916</td></tr><tr><td>UYT</td><td>05.13.2018</td><td>6.477883900789849</td><td>8.54693748326962</td><td>865</td><td>526</td><td>6.946768007535147</td><td>1236</td><td>5154</td><td>35803.64231083615</td></tr><tr><td>RTF</td><td>05.13.2018</td><td>158.34406974531004</td><td>159.6782386614546</td><td>438</td><td>1013</td><td>156.54077152385753</td><td>447</td><td>14917</td><td>2335118.688821383</td></tr><tr><td>GGX</td><td>05.12.2018</td><td>191.60895983887823</td><td>192.6952697490387</td><td>588</td><td>1135</td><td>189.56668111586413</td><td>1417</td><td>12977</td><td>2460006.8208405687</td></tr><tr><td>ABC</td><td>05.12.2018</td><td>197.4497817910373</td><td>200.43386188514597</td><td>1434</td><td>1111</td><td>194.5742190638517</td><td>611</td><td>6126</td><td>1191961.6659851556</td></tr><tr><td>ZZM</td><td>05.12.2018</td><td>1.164093718497568</td><td>3.59309938398875</td><td>1290</td><td>853</td><td>-0.5512691462615127</td><td>724</td><td>7903</td><td>-4356.680062904735</td></tr><tr><td>XEW</td><td>05.12.2018</td><td>25.32301789987316</td><td>27.562161959620532</td><td>676</td><td>1112</td><td>27.86835488049437</td><td>670</td><td>12229</td><td>340802.11183356564</td></tr><tr><td>FFG</td><td>05.12.2018</td><td>15.997009337211168</td><td>18.35771371517659</td><td>1441</td><td>417</td><td>17.144057150827344</td><td>1181</td><td>11293</td><td>193607.83740429318</td></tr><tr><td>UYT</td><td>05.12.2018</td><td>97.8885430318677</td><td>100.27465129562492</td><td>725</td><td>1183</td><td>99.98857925199967</td><td>1470</td><td>10876</td><td>1087475.7879447483</td></tr><tr><td>RTF</td><td>05.12.2018</td><td>103.7857584017377</td><td>106.16974586525808</td><td>812</td><td>1467</td><td>102.13285770347738</td><td>670</td><td>14636</td><td>1494816.505348095</td></tr><tr><td>GGX</td><td>05.11.2018</td><td>34.07405194174109</td><td>36.517131850954584</td><td>515</td><td>890</td><td>33.05613982726538</td><td>1416</td><td>14907</td><td>492767.87640504504</td></tr><tr><td>ABC</td><td>05.11.2018</td><td>1.7670042913834805</td><td>3.331577700890821</td><td>1019</td><td>1432</td><td>3.1414942186356876</td><td>1249</td><td>13517</td><td>42463.57735329859</td></tr><tr><td>ZZM</td><td>05.11.2018</td><td>140.47274483306091</td><td>141.69970080146533</td><td>927</td><td>435</td><td>142.8542135187486</td><td>505</td><td>10142</td><td>1448827.4335071482</td></tr><tr><td>XEW</td><td>05.11.2018</td><td>2.7870567598364118</td><td>4.3210512717021885</td><td>1329</td><td>1342</td><td>1.9714882718453564</td><td>950</td><td>8613</td><td>16980.428485404052</td></tr><tr><td>FFG</td><td>05.11.2018</td><td>176.98181899502808</td><td>178.17274824336775</td><td>1341</td><td>1262</td><td>176.19442316018095</td><td>1485</td><td>14658</td><td>2582657.8546819324</td></tr><tr><td>UYT</td><td>05.11.2018</td><td>136.39916501347867</td><td>138.90771658541735</td><td>613</td><td>1072</td><td>139.01448259627364</td><td>1428</td><td>8109</td><td>1127268.4393731828</td></tr><tr><td>RTF</td><td>05.11.2018</td><td>177.74078284539152</td><td>179.35535536468979</td><td>461</td><td>1371</td><td>177.10016634920026</td><td>1074</td><td>14380</td><td>2546700.3921014997</td></tr><tr><td>GGX</td><td>05.10.2018</td><td>29.44249614979515</td><td>30.862446550911105</td><td>510</td><td>911</td><td>27.64912980056502</td><td>905</td><td>11153</td><td>308370.7446657017</td></tr><tr><td>ABC</td><td>05.10.2018</td><td>140.7823272279219</td><td>143.2941940855348</td><td>1444</td><td>983</td><td>140.73424229815257</td><td>1028</td><td>12152</td><td>1710202.51240715</td></tr></table>"
      ],
      "text/plain": [
       "<IPython.core.display.HTML object>"
      ]
     },
     "metadata": {},
     "output_type": "display_data"
    },
    {
     "name": "stdout",
     "output_type": "stream",
     "text": [
      "End of UDF\n"
     ]
    }
   ],
   "source": [
    "# Xcalar Import UDF Template\n",
    "#\n",
    "# This is a function definition for a Python UDF to import external data source\n",
    "# file <Default Shared Root:/tmp/stocks.csv>\n",
    "#\n",
    "# Module name: <my_stocks>\n",
    "# Function name: <parse_stocks_file>\n",
    "#\n",
    "# REQUIREMENTS: Import UDF functions take two arguments...\n",
    "#   fullPath: The file path to the data source file being imported.\n",
    "#   inStream: A binary stream of the data source file.\n",
    "#\n",
    "#   Your Import UDF function must be a generator, a Python function which\n",
    "#   processes and returns a stream of data.\n",
    "#\n",
    "# To create an import UDF, modify the function definition immediately below this\n",
    "# comment, as necessary.\n",
    "#\n",
    "# To test your UDF, run this cell. (Hit <control> + <enter>.)\n",
    "#\n",
    "# To apply it to your dataset, click the \"Apply UDF on Dataset Panel\" button.\n",
    "#\n",
    "\n",
    "# NOTE: Use discipline before replacing this module. Consider whether the import of older\n",
    "# data source files using this UDF will be affected by this change. If so, versioning this\n",
    "# module may be appropriate.\n",
    "#\n",
    "# Best practice is to name helper functions by starting with __. Such\n",
    "# functions will be considered private functions and will not be directly\n",
    "# invokable from Xcalar tools.\n",
    "\n",
    "# Function definition for your Import UDF.\n",
    "def parse_stocks_file(inFile, inStream):\n",
    "    firstRow = True\n",
    "    import codecs \n",
    "    Utf8Reader = codecs.getreader(\"utf-8\") #  Xcalar opens and streams files in binary mode,\n",
    "    utf8Stream = Utf8Reader(inStream)     #  We need a codec to convert it to UTF-8\n",
    "    for line in utf8Stream:                                  \n",
    "        fields = line[:-1].split(\",\")                           # split comma separated fields\n",
    "        if firstRow:                                       # skip first row (headers)\n",
    "            headers = fields                              \n",
    "            firstRow = False\n",
    "            continue\n",
    "        record = {}                                                        # record dictionary\n",
    "        for i,field in enumerate(fields):\n",
    "            record[headers[i]] = field\n",
    "        record[\"Total Sale\"] = (float(record[\"Last Sale\"]) * float(record[\"Volume\"])) \n",
    "        yield (record)        # returns a single row to Xcalar to be inserted\n",
    "\n",
    "### WARNING DO NOT EDIT CODE BELOW THIS LINE ###\n",
    "from xcalar.compute.api.Dataset import *\n",
    "from xcalar.compute.coretypes.DataFormatEnums.ttypes import DfFormatTypeT\n",
    "from xcalar.compute.api.Udf import Udf\n",
    "from xcalar.compute.coretypes.LibApisCommon.ttypes import XcalarApiException\n",
    "import random\n",
    "\n",
    "def uploadUDF():\n",
    "    import inspect\n",
    "    sourceCode = \"\".join(inspect.getsourcelines(parse_stocks_file)[0])\n",
    "    try:\n",
    "        Udf(xcalarApi).add(\"my_stocks\", sourceCode)\n",
    "    except XcalarApiException as e:\n",
    "        if e.status == StatusT.StatusUdfModuleAlreadyExists:\n",
    "            Udf(xcalarApi).update(\"my_stocks\", sourceCode)\n",
    "\n",
    "def testImportUDF():\n",
    "    from IPython.core.display import display, HTML\n",
    "    userName = \"temp\"\n",
    "    tempDatasetName = userName + \".\" + str(random.randint(10000,99999)) + \"jupyterDS\" + str(random.randint(10000,99999))\n",
    "    dataset = UdfDataset(xcalarApi,\n",
    "        \"Default Shared Root\",\n",
    "        \"/tmp/stocks.csv\",\n",
    "        tempDatasetName,\n",
    "        \"my_stocks:parse_stocks_file\")\n",
    "\n",
    "    dataset.load()\n",
    "\n",
    "    resultSet = ResultSet(xcalarApi, datasetName=dataset.name, maxRecords=100)\n",
    "\n",
    "    NUMROWS = 100\n",
    "    rowN = 0\n",
    "    numCols = 0\n",
    "    headers = []\n",
    "    data = []\n",
    "    for row in resultSet:\n",
    "        if rowN >= NUMROWS:\n",
    "            break\n",
    "        newRow = [\"\"] * numCols\n",
    "        for key in row:\n",
    "            idx = headers.index(key) if key in headers else -1\n",
    "            if idx > -1:\n",
    "                newRow[idx] = row[key]\n",
    "            else:\n",
    "                numCols += 1\n",
    "                newRow.append(row[key])\n",
    "                headers.append(key)\n",
    "        data.append(newRow)\n",
    "        rowN += 1\n",
    "    data = [row + [\"\"] * (numCols - len(row)) for row in data]\n",
    "\n",
    "    print(\"The following should look like a proper table with headings.\")\n",
    "    display(HTML(\n",
    "            '<table><tr><th>{}</th></tr><tr>{}</tr></table>'.format(\n",
    "            '</th><th>'.join(headers),\n",
    "            '</tr><tr>'.join('<td>{}</td>'.format('</td><td>'.join(str(_) for _ in row)) for row in data)\n",
    "            )))\n",
    "\n",
    "    dataset.delete()\n",
    "    print(\"End of UDF\")\n",
    "\n",
    "# Test import UDF on file\n",
    "uploadUDF()\n",
    "testImportUDF()"
   ]
  },
  {
   "cell_type": "markdown",
   "metadata": {},
   "source": [
    "### Applying your UDF to Create a Table\n",
    "\n",
    "Now that your UDF is set up you can use it to create a table in Xcalar Design. Note that we will use this table in a later tutorials on Map UDF. You must first select the stocks.csv file you created as a datasource.\n",
    "\n",
    "<HTML>\n",
    "<br>\n",
    "<div style=\"background-color : blue; color : white\n",
    "    width: 284px;\n",
    "    padding: 20px 20px 20px 100px;\n",
    "    border: 1px solid #BFBFBF;\n",
    "    background-color: white;box-shadow: 0px 0px 0px 0px #aaaaaa; position: relative;\"><font style=\"font-size:20px\">\n",
    "Selecting a datasource</font>\n",
    "    <br>For more information on importing a datasource see [Selecting a data source](https://www.xcalar.com/documentation/help/XD/1.3.1/Content/A_GettingStarted/D_DetailedStepsForPointing.htm).\n",
    "    <img src=\"xi-questionmark_yellow.png\" \n",
    "         style=\"position: absolute;top: 5px;left: 30px;width:40px ;height:40px\" />\n",
    "</div>\n",
    "</HTML>\n",
    "\n",
    "\n",
    "1. Click the Datasets icon in the XD menu.\n",
    "2. In the <b>Import Data Source</b> form select 'Default Shared Root' for <b>Data Target</b> and '/tmp/stocks.csv' for <b>Data Source Path</b>.\n",
    "3. Click <b>NEXT</b>.\n",
    "\n",
    "<img src=\"importDS1.png\" style=\"width: 800px; border: 1px solid #CCC;\"/>\n",
    "<HTML>\n",
    "<div style=\"background-color : blue; color : white\n",
    "    width: 284px;\n",
    "    padding: 20px 20px 20px 100px;\n",
    "    border: 1px solid #BFBFBF;\n",
    "    background-color: white;box-shadow: 0px 0px 0px 0px #aaaaaa; position: relative;\"><font style=\"font-size:20px\">\n",
    "Importing a datasource</font>\n",
    "    <br>For more information on importing a datasource to import see [Importing a data source](https://www.xcalar.com/documentation/help/XD/1.3.1/Content/A_GettingStarted/E_SpecifyHowToImport.htm).\n",
    "    <img src=\"xi-questionmark_yellow.png\" \n",
    "         style=\"position: absolute;top: 5px;left: 30px;width:40px ;height:40px\" />\n",
    "</div>\n",
    "</HTML>\n",
    "4. In the next page, change the <b>Format</b> to 'Custom Format', this will change the other fields allowing you to select a UDF.\n",
    "5. Select 'my_stocks' in the <b>Module</b> dropdown, and 'parse_stocks_file' in <b>Function</b>.\n",
    "6. Click <b>CREATE DATASET</b>.\n",
    "7. The next page will show a preview of your table, slect all columns and click <b>CREATE TABLE</b>.\n",
    "<img src=\"importDS2.png\" style=\"width: 600px; border: 1px solid #CCC;\"/>\n",
    "\n",
    "Note that the parser we created in this example is rather simple. Usually you would build parsers to connect to semi-structured or unstructured files or files with non-standard format, compression or encoding. "
   ]
  },
  {
   "cell_type": "markdown",
   "metadata": {},
   "source": [
    "<html>\n",
    " Next: <a href=\"./2%20-%20Import%20UDF%20Parser%20Debugging%20and%20Troubleshooting.ipynb\" target=\"_self\">2. Import UDF: Simple Parser with Troubleshooting and Debugging</a><br>\n",
    " Back to <a href=\"./0%20-%20Introduction.ipynb\" target=\"_self\">Introduction</a><br>\n",
    "</html>"
   ]
  },
  {
   "cell_type": "code",
   "execution_count": null,
   "metadata": {},
   "outputs": [],
   "source": []
  }
 ],
 "metadata": {
  "kernelspec": {
   "display_name": "Python 3",
   "language": "python",
   "name": "python3"
  },
  "language_info": {
   "codemirror_mode": {
    "name": "ipython",
    "version": 3
   },
   "file_extension": ".py",
   "mimetype": "text/x-python",
   "name": "python",
   "nbconvert_exporter": "python",
   "pygments_lexer": "ipython3",
   "version": "3.6.4"
  }
 },
 "nbformat": 4,
 "nbformat_minor": 2
}
